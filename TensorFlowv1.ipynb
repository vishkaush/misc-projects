{
  "nbformat": 4,
  "nbformat_minor": 0,
  "metadata": {
    "colab": {
      "name": "TensorFlowv1.ipynb",
      "provenance": [],
      "toc_visible": true,
      "authorship_tag": "ABX9TyMkkVEqWlrpF1yHe1e2jq/W",
      "include_colab_link": true
    },
    "kernelspec": {
      "name": "python3",
      "display_name": "Python 3"
    },
    "language_info": {
      "name": "python"
    }
  },
  "cells": [
    {
      "cell_type": "markdown",
      "metadata": {
        "id": "view-in-github",
        "colab_type": "text"
      },
      "source": [
        "<a href=\"https://colab.research.google.com/github/vishkaush/misc-projects/blob/main/TensorFlowv1.ipynb\" target=\"_parent\"><img src=\"https://colab.research.google.com/assets/colab-badge.svg\" alt=\"Open In Colab\"/></a>"
      ]
    },
    {
      "cell_type": "markdown",
      "metadata": {
        "id": "p9EroSfWxu4E"
      },
      "source": [
        "# Getting Comfortable with TensorFlow v1"
      ]
    },
    {
      "cell_type": "markdown",
      "metadata": {
        "id": "J-iH_-jeddde"
      },
      "source": [
        "## Init"
      ]
    },
    {
      "cell_type": "code",
      "metadata": {
        "colab": {
          "base_uri": "https://localhost:8080/",
          "height": 35
        },
        "id": "rUhpIvtRdfJq",
        "outputId": "17d6ea96-b68c-4b48-ba7a-9bf5b5befb44"
      },
      "source": [
        "%tensorflow_version 1.x\n",
        "import numpy as np\n",
        "import math\n",
        "import h5py\n",
        "import tensorflow as tf\n",
        "tf.__version__\n",
        "# import tensorflow.compat.v1 as tf\n",
        "# tf.disable_v2_behavior()\n",
        "# tf.__version__"
      ],
      "execution_count": 16,
      "outputs": [
        {
          "output_type": "execute_result",
          "data": {
            "application/vnd.google.colaboratory.intrinsic+json": {
              "type": "string"
            },
            "text/plain": [
              "'1.15.2'"
            ]
          },
          "metadata": {
            "tags": []
          },
          "execution_count": 16
        }
      ]
    },
    {
      "cell_type": "markdown",
      "metadata": {
        "id": "yqArHQZTwN-4"
      },
      "source": [
        "## Basics"
      ]
    },
    {
      "cell_type": "code",
      "metadata": {
        "colab": {
          "base_uri": "https://localhost:8080/"
        },
        "id": "HZUC_Kq0wWkf",
        "outputId": "6288aaa7-8ec8-4ef2-f561-e293abbf0a2b"
      },
      "source": [
        "y_hat = tf.constant(36, name='y_hat')            # Define y_hat constant. Set to 36.\n",
        "y = tf.constant(39, name='y')                    # Define y. Set to 39\n",
        "\n",
        "loss = tf.Variable((y - y_hat)**2, name='loss')  # Create a variable for the loss\n",
        "                                                 # Create Tensors (variables) that are not yet executed/evaluated\n",
        "\n",
        "init = tf.global_variables_initializer()         # When init is run later (session.run(init)),\n",
        "                                                 # the loss variable will be initialized and ready to be computed\n",
        "with tf.Session() as session:                    # Create a session\n",
        "    session.run(init)                            # Initializes the variables\n",
        "    print(session.run(loss))                     # Computes and prints the loss"
      ],
      "execution_count": 3,
      "outputs": [
        {
          "output_type": "stream",
          "text": [
            "9\n"
          ],
          "name": "stdout"
        }
      ]
    },
    {
      "cell_type": "code",
      "metadata": {
        "colab": {
          "base_uri": "https://localhost:8080/"
        },
        "id": "16KHAGUx2Txl",
        "outputId": "8c86d4c5-c96a-4206-cbd4-69d60aa562f6"
      },
      "source": [
        "# this only creates the computation graph -no computation happens\n",
        "a = tf.constant(2)\n",
        "b = tf.constant(10)\n",
        "c = tf.multiply(a,b)\n",
        "print(c)"
      ],
      "execution_count": 5,
      "outputs": [
        {
          "output_type": "stream",
          "text": [
            "Tensor(\"Mul_1:0\", shape=(), dtype=int32)\n"
          ],
          "name": "stdout"
        }
      ]
    },
    {
      "cell_type": "code",
      "metadata": {
        "colab": {
          "base_uri": "https://localhost:8080/"
        },
        "id": "CFrFyMU72eix",
        "outputId": "082170ed-d2e4-4db7-f281-2334d010cbb2"
      },
      "source": [
        "# this actually carries out the computation\n",
        "sess = tf.Session()\n",
        "print(sess.run(c))"
      ],
      "execution_count": 6,
      "outputs": [
        {
          "output_type": "stream",
          "text": [
            "20\n"
          ],
          "name": "stdout"
        }
      ]
    },
    {
      "cell_type": "code",
      "metadata": {
        "colab": {
          "base_uri": "https://localhost:8080/"
        },
        "id": "g6yaFov22viO",
        "outputId": "b167e9ab-8ecc-4fd9-f810-0765ca6d3602"
      },
      "source": [
        "x = tf.placeholder(tf.int64, name = 'x')  # A placeholder is simply a variable that you will \n",
        "                                          # assign data to only later, when running the session\n",
        "print(sess.run(2 * x, feed_dict = {x: 3}))\n",
        "sess.close()   # When session is not created using with, it needs to be explicitly closed"
      ],
      "execution_count": 7,
      "outputs": [
        {
          "output_type": "stream",
          "text": [
            "6\n"
          ],
          "name": "stdout"
        }
      ]
    },
    {
      "cell_type": "markdown",
      "metadata": {
        "id": "BM-BlFFl3OED"
      },
      "source": [
        "## Linear Function"
      ]
    },
    {
      "cell_type": "code",
      "metadata": {
        "id": "EgB6C8J43SR2"
      },
      "source": [
        "def linear_function():\n",
        "  # Compute Y = WX + b where W and X are random matrices and b is a random vector\n",
        "  np.random.seed(1)\n",
        "  X = tf.constant(np.random.randn(3,1), name = \"X\")\n",
        "  W = tf.constant(np.random.randn(4,3), name = \"W\")\n",
        "  b = tf.constant(np.random.randn(4,1), name = \"b\")\n",
        "  Y = tf.constant(np.random.randn(4,1), name = \"Y\")\n",
        "  sess = tf.Session()\n",
        "  result = sess.run(tf.add(tf.matmul(W, X), b))\n",
        "  sess.close()\n",
        "  return result"
      ],
      "execution_count": 10,
      "outputs": []
    },
    {
      "cell_type": "code",
      "metadata": {
        "colab": {
          "base_uri": "https://localhost:8080/"
        },
        "id": "DA_xTWGL4cEi",
        "outputId": "e658f2a9-ab52-48e4-d93b-604db8e284cb"
      },
      "source": [
        "print(\"WX + b = \", str(linear_function()))"
      ],
      "execution_count": 11,
      "outputs": [
        {
          "output_type": "stream",
          "text": [
            "WX + b =  [[-2.15657382]\n",
            " [ 2.95891446]\n",
            " [-1.08926781]\n",
            " [-0.84538042]]\n"
          ],
          "name": "stdout"
        }
      ]
    },
    {
      "cell_type": "markdown",
      "metadata": {
        "id": "iuNecT6W34a_"
      },
      "source": [
        "## Sigmoid"
      ]
    },
    {
      "cell_type": "code",
      "metadata": {
        "id": "bIuH4Z1B37Ax"
      },
      "source": [
        "def sigmoid(z):\n",
        "  x = tf.placeholder(tf.float32, name = \"x\")\n",
        "  sigmoid = tf.sigmoid(x)\n",
        "  with tf.Session() as sess:\n",
        "    result = sess.run(sigmoid, feed_dict = {x: z})\n",
        "  return result"
      ],
      "execution_count": 12,
      "outputs": []
    },
    {
      "cell_type": "code",
      "metadata": {
        "colab": {
          "base_uri": "https://localhost:8080/",
          "height": 282
        },
        "id": "774OGihp4_wT",
        "outputId": "9440d536-564b-4911-e120-43b9358fcfd0"
      },
      "source": [
        "import matplotlib.pyplot as plt\n",
        "x = range(-5, 5, 1)\n",
        "y = sigmoid(x)\n",
        "plt.plot(x,y)"
      ],
      "execution_count": 13,
      "outputs": [
        {
          "output_type": "execute_result",
          "data": {
            "text/plain": [
              "[<matplotlib.lines.Line2D at 0x7fb893f2f750>]"
            ]
          },
          "metadata": {
            "tags": []
          },
          "execution_count": 13
        },
        {
          "output_type": "display_data",
          "data": {
            "image/png": "[encoded data removed]",
            "text/plain": [
              "<Figure size 432x288 with 1 Axes>"
            ]
          },
          "metadata": {
            "tags": [],
            "needs_background": "light"
          }
        }
      ]
    },
    {
      "cell_type": "markdown",
      "metadata": {
        "id": "Nbxg9jbUKOtL"
      },
      "source": [
        "## Initialize with zeros or ones"
      ]
    },
    {
      "cell_type": "code",
      "metadata": {
        "colab": {
          "base_uri": "https://localhost:8080/"
        },
        "id": "FKyaiQskKQ60",
        "outputId": "38677362-fe19-42e2-dd04-c323a96d8c66"
      },
      "source": [
        "# use tf.zeros for 0s instead\n",
        "ones1 = tf.ones(4)\n",
        "ones2 = tf.ones([4])\n",
        "ones3 = tf.ones((2,3))\n",
        "ones4 = tf.ones([2,3])\n",
        "sess = tf.Session()\n",
        "ones1 = sess.run(ones1)\n",
        "ones2 = sess.run(ones2)\n",
        "ones3 = sess.run(ones3)\n",
        "ones4 = sess.run(ones4)\n",
        "sess.close()\n",
        "print(ones1)\n",
        "print(ones2)\n",
        "print(ones3)\n",
        "print(ones4)"
      ],
      "execution_count": 51,
      "outputs": [
        {
          "output_type": "stream",
          "text": [
            "[1. 1. 1. 1.]\n",
            "[1. 1. 1. 1.]\n",
            "[[1. 1. 1.]\n",
            " [1. 1. 1.]]\n",
            "[[1. 1. 1.]\n",
            " [1. 1. 1.]]\n"
          ],
          "name": "stdout"
        }
      ]
    },
    {
      "cell_type": "markdown",
      "metadata": {
        "id": "rO79loCowKdp"
      },
      "source": [
        "## Define cost and train"
      ]
    },
    {
      "cell_type": "code",
      "metadata": {
        "colab": {
          "base_uri": "https://localhost:8080/"
        },
        "id": "FIJ7I9jTwB5s",
        "outputId": "f9f01aed-890d-4290-8042-653b8858d7e1"
      },
      "source": [
        "coefficients = np.array([[1.], [-10.], [25.]])\n",
        "w = tf.Variable(0,dtype=tf.float32)\n",
        "x = tf.placeholder(tf.float32, [3,1])  #to be used s coefficients of the cost functions\n",
        "#cost = tf.add(tf.add(w**2, tf.multiply(-10.,w)),25)   # J(w) = w^2-10w+25 = (w-5)^2\n",
        "#cost = w**2 - 10*w + 25 \n",
        "cost = x[0][0]*w**2 + x[1][0]*w + x[2][0]  #this is the heart of the program - internally builds a computation graph\n",
        "train = tf.train.GradientDescentOptimizer(0.01).minimize(cost) # specifies the algo, automatically computes the gradients\n",
        "init = tf.global_variables_initializer()\n",
        "session = tf.Session()\n",
        "session.run(init)\n",
        "print(session.run(w))\n",
        "#above three lines can be replaced by the following three lines\n",
        "# with tf.Session() as session:\n",
        "#   session.run(init)\n",
        "#   print(session.run(w))"
      ],
      "execution_count": null,
      "outputs": [
        {
          "output_type": "stream",
          "text": [
            "0.0\n"
          ],
          "name": "stdout"
        }
      ]
    },
    {
      "cell_type": "code",
      "metadata": {
        "colab": {
          "base_uri": "https://localhost:8080/"
        },
        "id": "HFIWdYhbw81o",
        "outputId": "870a00dd-7485-4663-a5a6-c60fdadfbe65"
      },
      "source": [
        "session.run(train, feed_dict={x:coefficients})\n",
        "print(session.run(w))"
      ],
      "execution_count": null,
      "outputs": [
        {
          "output_type": "stream",
          "text": [
            "0.099999994\n"
          ],
          "name": "stdout"
        }
      ]
    },
    {
      "cell_type": "code",
      "metadata": {
        "colab": {
          "base_uri": "https://localhost:8080/"
        },
        "id": "O-nhTk1gxi7f",
        "outputId": "33bdb9d7-8658-43e8-c903-cb172ffb0883"
      },
      "source": [
        "for i in range(1000):\n",
        "  session.run(train, feed_dict={x:coefficients})\n",
        "print(session.run(w))"
      ],
      "execution_count": null,
      "outputs": [
        {
          "output_type": "stream",
          "text": [
            "4.999988\n"
          ],
          "name": "stdout"
        }
      ]
    },
    {
      "cell_type": "markdown",
      "metadata": {
        "id": "2220C6zFxqYN"
      },
      "source": [
        "## Built-in Functions for computing cost\n",
        "\n",
        "![math.png](data:image/png;base64,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)"
      ]
    },
    {
      "cell_type": "code",
      "metadata": {
        "id": "790xPjCJ65Sv"
      },
      "source": [
        "# with placeholders\n",
        "def compute_cost_v1(z, y):\n",
        "  # Create the placeholders for \"logits\" (z) and \"labels\" (y)\n",
        "  logits = tf.placeholder(tf.float32, name = \"logits\")\n",
        "  labels = tf.placeholder(tf.float32, name = \"labels\")\n",
        "  cost = tf.nn.sigmoid_cross_entropy_with_logits(logits = logits, labels = labels)\n",
        "  sess = tf.Session()\n",
        "  cost = sess.run(cost, feed_dict = {logits:z, labels:y})\n",
        "  sess.close()\n",
        "  return cost\n",
        "\n",
        "# without placeholders\n",
        "def compute_cost_v2(z, y):\n",
        "  # Create the placeholders for \"logits\" (z) and \"labels\" (y)\n",
        "  #logits = tf.placeholder(tf.float32, name = \"logits\")\n",
        "  #labels = tf.placeholder(tf.float32, name = \"labels\")\n",
        "  cost = tf.nn.sigmoid_cross_entropy_with_logits(logits = z, labels = y)\n",
        "  sess = tf.Session()\n",
        "  cost = sess.run(cost)\n",
        "  sess.close()\n",
        "  return cost\n",
        "\n",
        "# without placeholders, with Variables - complains for being uninitialized\n",
        "def compute_cost_v3(z, y):\n",
        "  # Create the variables for \"logits\" (z) and \"labels\" (y)\n",
        "  logits = tf.Variable(z, dtype=tf.float32)\n",
        "  labels = tf.Variable(y, dtype=tf.float32)\n",
        "  cost = tf.nn.sigmoid_cross_entropy_with_logits(logits = logits, labels = labels)\n",
        "  sess = tf.Session()\n",
        "  cost = sess.run(cost)\n",
        "  sess.close()\n",
        "  return cost"
      ],
      "execution_count": 72,
      "outputs": []
    },
    {
      "cell_type": "code",
      "metadata": {
        "colab": {
          "base_uri": "https://localhost:8080/"
        },
        "id": "fq5EGrTe9-fX",
        "outputId": "19a159c6-06e4-4894-bcf6-d383dd3e649c"
      },
      "source": [
        "z = np.array([0.2,0.4,0.7,0.9])\n",
        "y = np.array([0.,0.,1.,1.])\n",
        "cost1 = compute_cost_v1(z, y)\n",
        "cost2 = compute_cost_v2(z, y)\n",
        "#cost3 = compute_cost_v3(z, y)\n",
        "print (\"cost1 = \" + str(cost1))\n",
        "print (\"cost2 = \" + str(cost2))\n",
        "#print (\"cost3 = \" + str(cost3))"
      ],
      "execution_count": 37,
      "outputs": [
        {
          "output_type": "stream",
          "text": [
            "cost1 = [0.79813886 0.91301525 0.40318605 0.34115386]\n",
            "cost2 = [0.79813887 0.91301525 0.40318605 0.34115387]\n"
          ],
          "name": "stdout"
        }
      ]
    },
    {
      "cell_type": "markdown",
      "metadata": {
        "id": "CM0uFLwJ-Lgt"
      },
      "source": [
        "## Converting labels to one-hot encoding"
      ]
    },
    {
      "cell_type": "code",
      "metadata": {
        "id": "2gtmX8EX-aJh"
      },
      "source": [
        "# without placeholders\n",
        "def one_hot_matrix_v1(labels, num_classes):\n",
        "  one_hot_matrix = tf.one_hot(labels, depth = num_classes, axis = 0)\n",
        "  sess = tf.Session()\n",
        "  one_hot = sess.run(one_hot_matrix)\n",
        "  sess.close()\n",
        "  return one_hot\n",
        "\n",
        "# with placeholders\n",
        "def one_hot_matrix_v2(labels, num_classes):\n",
        "  lab = tf.placeholder(tf.uint8, name = \"lab\")\n",
        "  n = tf.placeholder(tf.int32, name = \"n\")\n",
        "  one_hot_matrix = tf.one_hot(lab, depth = n, axis = 0)\n",
        "  sess = tf.Session()\n",
        "  one_hot = sess.run(one_hot_matrix, feed_dict={lab:labels, n:num_classes})\n",
        "  sess.close()\n",
        "  return one_hot\n",
        "\n",
        "# with constant, without placeholder\n",
        "def one_hot_matrix_v3(labels, num_classes):\n",
        "  C = tf.constant(num_classes, name = 'C')\n",
        "  one_hot_matrix = tf.one_hot(labels, depth = C, axis = 0)\n",
        "  sess = tf.Session()\n",
        "  one_hot = sess.run(one_hot_matrix)\n",
        "  sess.close()\n",
        "  return one_hot\n",
        "\n",
        "def convert_to_one_hot_np(labels, num_classes):\n",
        "  labels = np.eye(num_classes)[labels.reshape(-1)].T\n",
        "  return labels"
      ],
      "execution_count": 73,
      "outputs": []
    },
    {
      "cell_type": "code",
      "metadata": {
        "colab": {
          "base_uri": "https://localhost:8080/"
        },
        "id": "Ht27pKnrBBHu",
        "outputId": "0c27f623-f0c4-4dbc-ba41-b88aa2454f6f"
      },
      "source": [
        "labels = np.array([1,2,3,0,2,1])\n",
        "one_hot = one_hot_matrix_v1(labels, 4)\n",
        "one_hotv2 = one_hot_matrix_v2(labels, 4)\n",
        "one_hotv3 = one_hot_matrix_v3(labels, 4)\n",
        "one_hotv4 = convert_to_one_hot_np(labels, 4)\n",
        "print (\"one_hot = \\n\" + str(one_hot))\n",
        "print (\"one_hotv2 = \\n\" + str(one_hotv2))\n",
        "print (\"one_hotv3 = \\n\" + str(one_hotv3))\n",
        "print (\"one_hotv4 = \\n\" + str(one_hotv4))"
      ],
      "execution_count": 74,
      "outputs": [
        {
          "output_type": "stream",
          "text": [
            "one_hot = \n",
            "[[0. 0. 0. 1. 0. 0.]\n",
            " [1. 0. 0. 0. 0. 1.]\n",
            " [0. 1. 0. 0. 1. 0.]\n",
            " [0. 0. 1. 0. 0. 0.]]\n",
            "one_hotv2 = \n",
            "[[0. 0. 0. 1. 0. 0.]\n",
            " [1. 0. 0. 0. 0. 1.]\n",
            " [0. 1. 0. 0. 1. 0.]\n",
            " [0. 0. 1. 0. 0. 0.]]\n",
            "one_hotv3 = \n",
            "[[0. 0. 0. 1. 0. 0.]\n",
            " [1. 0. 0. 0. 0. 1.]\n",
            " [0. 1. 0. 0. 1. 0.]\n",
            " [0. 0. 1. 0. 0. 0.]]\n",
            "one_hotv4 = \n",
            "[[0. 0. 0. 1. 0. 0.]\n",
            " [1. 0. 0. 0. 0. 1.]\n",
            " [0. 1. 0. 0. 1. 0.]\n",
            " [0. 0. 1. 0. 0. 0.]]\n"
          ],
          "name": "stdout"
        }
      ]
    },
    {
      "cell_type": "markdown",
      "metadata": {
        "id": "R03k-5E_BC4r"
      },
      "source": [
        "# First Neural Network wih TensorFlowv1"
      ]
    },
    {
      "cell_type": "markdown",
      "metadata": {
        "id": "suYoI9HfLHr7"
      },
      "source": [
        "## Data"
      ]
    },
    {
      "cell_type": "code",
      "metadata": {
        "id": "cISicjZqOYzm"
      },
      "source": [
        "import h5py"
      ],
      "execution_count": 2,
      "outputs": []
    },
    {
      "cell_type": "code",
      "metadata": {
        "colab": {
          "base_uri": "https://localhost:8080/"
        },
        "id": "FOH32z5sLrOY",
        "outputId": "4ebabe5a-b7fc-4aac-8fd2-194cbc6e7de0"
      },
      "source": [
        "from google.colab import drive\n",
        "drive.mount('/content/drive')"
      ],
      "execution_count": 3,
      "outputs": [
        {
          "output_type": "stream",
          "text": [
            "Drive already mounted at /content/drive; to attempt to forcibly remount, call drive.mount(\"/content/drive\", force_remount=True).\n"
          ],
          "name": "stdout"
        }
      ]
    },
    {
      "cell_type": "code",
      "metadata": {
        "colab": {
          "base_uri": "https://localhost:8080/"
        },
        "id": "6Nra7K2QLrv2",
        "outputId": "f187f78d-c316-4cb3-96ae-1f597e9876c1"
      },
      "source": [
        "train_dataset = h5py.File('/content/drive/MyDrive/andrew_dl_data/train_signs.h5', \"r\")\n",
        "X_train_orig = np.array(train_dataset[\"train_set_x\"][:]) # your train set features\n",
        "Y_train_orig = np.array(train_dataset[\"train_set_y\"][:]) # your train set labels\n",
        "\n",
        "test_dataset = h5py.File('/content/drive/MyDrive/andrew_dl_data/test_signs.h5', \"r\")\n",
        "X_test_orig = np.array(test_dataset[\"test_set_x\"][:]) # your test set features\n",
        "Y_test_orig = np.array(test_dataset[\"test_set_y\"][:]) # your test set labels\n",
        "\n",
        "classes = np.array(test_dataset[\"list_classes\"][:]) # the list of classes\n",
        "\n",
        "Y_train_orig = Y_train_orig.reshape((1, Y_train_orig.shape[0]))\n",
        "Y_test_orig = Y_test_orig.reshape((1, Y_test_orig.shape[0]))\n",
        "\n",
        "print(\"train_set_x_orig's shape = \", X_train_orig.shape)\n",
        "print(\"train_set_y_orig's shape = \", Y_train_orig.shape)\n",
        "print(\"test_set_x_orig's shape = \", X_test_orig.shape)\n",
        "print(\"test_set_y_orig's shape = \", Y_test_orig.shape)\n",
        "print(classes)"
      ],
      "execution_count": 4,
      "outputs": [
        {
          "output_type": "stream",
          "text": [
            "train_set_x_orig's shape =  (1080, 64, 64, 3)\n",
            "train_set_y_orig's shape =  (1, 1080)\n",
            "test_set_x_orig's shape =  (120, 64, 64, 3)\n",
            "test_set_y_orig's shape =  (1, 120)\n",
            "[0 1 2 3 4 5]\n"
          ],
          "name": "stdout"
        }
      ]
    },
    {
      "cell_type": "code",
      "metadata": {
        "colab": {
          "base_uri": "https://localhost:8080/",
          "height": 285
        },
        "id": "4-ut15D6OW60",
        "outputId": "4fcb88f2-5e43-4285-e132-a753aad14fbf"
      },
      "source": [
        "import matplotlib.pyplot as plt\n",
        "index = 60\n",
        "plt.imshow(X_train_orig[index])\n",
        "print(\"Label of this image = \", str(Y_train_orig[0, index]))"
      ],
      "execution_count": 5,
      "outputs": [
        {
          "output_type": "stream",
          "text": [
            "Label of this image =  4\n"
          ],
          "name": "stdout"
        },
        {
          "output_type": "display_data",
          "data": {
            "image/png": "[encoded data removed]",
            "text/plain": [
              "<Figure size 432x288 with 1 Axes>"
            ]
          },
          "metadata": {
            "tags": [],
            "needs_background": "light"
          }
        }
      ]
    },
    {
      "cell_type": "code",
      "metadata": {
        "colab": {
          "base_uri": "https://localhost:8080/"
        },
        "id": "BdEPTLjIOnq_",
        "outputId": "63ac880a-48f5-4c40-8e29-a93c0fc587c8"
      },
      "source": [
        "# Flatten the training and test images\n",
        "num_classes = 6\n",
        "X_train_flatten = X_train_orig.reshape(X_train_orig.shape[0], -1).T\n",
        "X_test_flatten = X_test_orig.reshape(X_test_orig.shape[0], -1).T\n",
        "# Normalize image vectors\n",
        "X_train = X_train_flatten/255.\n",
        "X_test = X_test_flatten/255.\n",
        "# Convert training and test labels to one hot matrices\n",
        "Y_train = np.eye(num_classes)[Y_train_orig.reshape(-1)].T\n",
        "Y_test = np.eye(num_classes)[Y_test_orig.reshape(-1)].T\n",
        "print(\"X_train's shape = \", X_train.shape)\n",
        "print(\"Y_train's shape = \", Y_train.shape)\n",
        "print(\"X_test's shape = \", X_test.shape)\n",
        "print(\"Y_test's shape = \", Y_test.shape)"
      ],
      "execution_count": 6,
      "outputs": [
        {
          "output_type": "stream",
          "text": [
            "X_train's shape =  (12288, 1080)\n",
            "Y_train's shape =  (6, 1080)\n",
            "X_test's shape =  (12288, 120)\n",
            "Y_test's shape =  (6, 120)\n"
          ],
          "name": "stdout"
        }
      ]
    },
    {
      "cell_type": "markdown",
      "metadata": {
        "id": "es3ay3qJSZ4G"
      },
      "source": [
        "## Model\n",
        "\n",
        "**Model Architecture:**\n",
        "INPUT (12288) -> LINEAR (25) -> RELU -> LINEAR (12) -> RELU -> LINEAR (6) -> SOFTMAX"
      ]
    },
    {
      "cell_type": "code",
      "metadata": {
        "id": "284ZIwgJTM5O"
      },
      "source": [
        "def create_placeholders(n_x, n_y):\n",
        "  # using None allows to keep number of examples flexible - for example num examples in train\n",
        "  # is different from test\n",
        "  X = tf.placeholder(shape = [n_x, None], dtype = tf.float32, name = 'X')\n",
        "  Y = tf.placeholder(shape = [n_y, None], dtype = tf.float32, name = 'Y')\n",
        "  return X, Y"
      ],
      "execution_count": 7,
      "outputs": []
    },
    {
      "cell_type": "code",
      "metadata": {
        "id": "nKs1G5UBTqA4"
      },
      "source": [
        "def initialize_parameters():\n",
        "  tf.set_random_seed(1)\n",
        "  W1 = tf.get_variable(\"W1\", [25,12288], initializer = tf.contrib.layers.xavier_initializer(seed = 1))\n",
        "  b1 = tf.get_variable(\"b1\", [25,1], initializer = tf.zeros_initializer())\n",
        "  W2 = tf.get_variable(\"W2\", [12,25], initializer = tf.contrib.layers.xavier_initializer(seed = 1))\n",
        "  b2 = tf.get_variable(\"b2\", [12,1], initializer = tf.zeros_initializer())\n",
        "  W3 = tf.get_variable(\"W3\", [6,12], initializer = tf.contrib.layers.xavier_initializer(seed = 1))\n",
        "  b3 = tf.get_variable(\"b3\", [6,1], initializer = tf.zeros_initializer())\n",
        "  parameters = {\"W1\": W1,\n",
        "                  \"b1\": b1,\n",
        "                  \"W2\": W2,\n",
        "                  \"b2\": b2,\n",
        "                  \"W3\": W3,\n",
        "                  \"b3\": b3}\n",
        "    \n",
        "  return parameters"
      ],
      "execution_count": 8,
      "outputs": []
    },
    {
      "cell_type": "code",
      "metadata": {
        "id": "-wn6HKXfUmZn"
      },
      "source": [
        "def forward_prop(X, parameters):\n",
        "  W1 = parameters['W1']\n",
        "  b1 = parameters['b1']\n",
        "  W2 = parameters['W2']\n",
        "  b2 = parameters['b2']\n",
        "  W3 = parameters['W3']\n",
        "  b3 = parameters['b3']\n",
        "  Z1 = tf.add(tf.matmul(W1, X), b1)                    # Z1 = np.dot(W1, X) + b1\n",
        "  A1 = tf.nn.relu(Z1)                                    # A1 = relu(Z1)\n",
        "  Z2 = tf.add(tf.matmul(W2, A1), b2)                   # Z2 = np.dot(W2, A1) + b2\n",
        "  A2 = tf.nn.relu(Z2)                                    # A2 = relu(Z2)\n",
        "  Z3 = tf.add(tf.matmul(W3, A2), b3) \n",
        "  return Z3  #doesn't return any cache"
      ],
      "execution_count": 9,
      "outputs": []
    },
    {
      "cell_type": "code",
      "metadata": {
        "id": "I0BQ1MzjVXCz"
      },
      "source": [
        "def compute_cost(Z3, Y):\n",
        "  logits = tf.transpose(Z3)   # because tf.nn.softmax_cross_entropy_with_logits expects (num_examples, num_classes)\n",
        "  labels = tf.transpose(Y)\n",
        "  #tf.reduce_mean sums over all examples\n",
        "  cost = tf.reduce_mean(tf.nn.softmax_cross_entropy_with_logits(logits = logits, labels = labels))\n",
        "  return cost"
      ],
      "execution_count": 10,
      "outputs": []
    },
    {
      "cell_type": "code",
      "metadata": {
        "id": "b29MOHWLYtcl"
      },
      "source": [
        "def random_mini_batches(X, Y, mini_batch_size = 64, seed = 0):\n",
        "  m = X.shape[1]                  # number of training examples\n",
        "  mini_batches = []\n",
        "  np.random.seed(seed)\n",
        "  \n",
        "  # Step 1: Shuffle (X, Y)\n",
        "  permutation = list(np.random.permutation(m))\n",
        "  shuffled_X = X[:, permutation]\n",
        "  shuffled_Y = Y[:, permutation].reshape((Y.shape[0],m))\n",
        "\n",
        "  # Step 2: Partition (shuffled_X, shuffled_Y). Minus the end case.\n",
        "  num_complete_minibatches = math.floor(m/mini_batch_size) # number of mini batches of size mini_batch_size in your partitionning\n",
        "  for k in range(0, num_complete_minibatches):\n",
        "      mini_batch_X = shuffled_X[:, k * mini_batch_size : k * mini_batch_size + mini_batch_size]\n",
        "      mini_batch_Y = shuffled_Y[:, k * mini_batch_size : k * mini_batch_size + mini_batch_size]\n",
        "      mini_batch = (mini_batch_X, mini_batch_Y)\n",
        "      mini_batches.append(mini_batch)\n",
        "  \n",
        "  # Handling the end case (last mini-batch < mini_batch_size)\n",
        "  if m % mini_batch_size != 0:\n",
        "      mini_batch_X = shuffled_X[:, num_complete_minibatches * mini_batch_size : m]\n",
        "      mini_batch_Y = shuffled_Y[:, num_complete_minibatches * mini_batch_size : m]\n",
        "      mini_batch = (mini_batch_X, mini_batch_Y)\n",
        "      mini_batches.append(mini_batch)\n",
        "  \n",
        "  return mini_batches"
      ],
      "execution_count": 11,
      "outputs": []
    },
    {
      "cell_type": "markdown",
      "metadata": {
        "id": "pTUlMThSiWP5"
      },
      "source": [
        "## Training"
      ]
    },
    {
      "cell_type": "code",
      "metadata": {
        "id": "oiU7ZxQLWxP-"
      },
      "source": [
        "def model(X_train, Y_train, X_test, Y_test, learning_rate = 0.0001,\n",
        "          num_epochs = 1500, minibatch_size = 32, print_cost = True):\n",
        "  tf.reset_default_graph()\n",
        "  tf.set_random_seed(1)\n",
        "  seed = 3\n",
        "  (n_x, m) = X_train.shape\n",
        "  n_y = Y_train.shape[0]\n",
        "  costs = []\n",
        "  X, Y = create_placeholders(n_x, n_y)\n",
        "  parameters = initialize_parameters()\n",
        "  Z3 = forward_prop(X, parameters)\n",
        "  cost = compute_cost(Z3, Y)\n",
        "  optimizer = tf.train.AdamOptimizer(learning_rate = learning_rate).minimize(cost)\n",
        "  init = tf.global_variables_initializer()\n",
        "  with tf.Session() as sess:\n",
        "    sess.run(init)\n",
        "    for epoch in range(num_epochs):\n",
        "      epoch_avg_mini_batch_cost = 0.\n",
        "      num_minibatches = int(m / minibatch_size)\n",
        "      seed = seed + 1\n",
        "      minibatches = random_mini_batches(X_train, Y_train, minibatch_size, seed)\n",
        "      for minibatch in minibatches:\n",
        "        (minibatch_X, minibatch_Y) = minibatch\n",
        "        optimizer_val , minibatch_cost = sess.run([optimizer, cost], feed_dict = {X: minibatch_X, Y: minibatch_Y})\n",
        "        epoch_avg_mini_batch_cost += minibatch_cost / num_minibatches\n",
        "      if print_cost == True and epoch % 100 == 0:\n",
        "          print (\"Avg mini batch cost after epoch %i: %f\" % (epoch, epoch_avg_mini_batch_cost))\n",
        "      if print_cost == True and epoch % 5 == 0:\n",
        "          costs.append(epoch_avg_mini_batch_cost)\n",
        "    plt.plot(np.squeeze(costs))\n",
        "    plt.ylabel('cost')\n",
        "    plt.xlabel('iterations (per fives)')\n",
        "    plt.title(\"Learning rate =\" + str(learning_rate))\n",
        "    plt.show()\n",
        "    parameters = sess.run(parameters)\n",
        "    print (\"Parameters have been trained!\")\n",
        "    num_correct_prediction = tf.equal(tf.argmax(Z3), tf.argmax(Y))\n",
        "    accuracy = tf.reduce_mean(tf.cast(num_correct_prediction, \"float\"))\n",
        "    print (\"Train Accuracy:\", accuracy.eval({X: X_train, Y: Y_train}))  #equivalent to sess.run(accuracy)\n",
        "    print (\"Test Accuracy:\", accuracy.eval({X: X_test, Y: Y_test}))\n",
        "    return parameters"
      ],
      "execution_count": 17,
      "outputs": []
    },
    {
      "cell_type": "code",
      "metadata": {
        "colab": {
          "base_uri": "https://localhost:8080/",
          "height": 601
        },
        "id": "GZNnwJiObIwf",
        "outputId": "01b30409-cc68-45ef-d389-d80b4abdbd13"
      },
      "source": [
        "parameters = model(X_train, Y_train, X_test, Y_test)"
      ],
      "execution_count": 18,
      "outputs": [
        {
          "output_type": "stream",
          "text": [
            "Avg mini batch cost after epoch 0: 1.855702\n",
            "Avg mini batch cost after epoch 100: 1.016458\n",
            "Avg mini batch cost after epoch 200: 0.733102\n",
            "Avg mini batch cost after epoch 300: 0.572940\n",
            "Avg mini batch cost after epoch 400: 0.468774\n",
            "Avg mini batch cost after epoch 500: 0.381021\n",
            "Avg mini batch cost after epoch 600: 0.313830\n",
            "Avg mini batch cost after epoch 700: 0.254170\n",
            "Avg mini batch cost after epoch 800: 0.203811\n",
            "Avg mini batch cost after epoch 900: 0.166473\n",
            "Avg mini batch cost after epoch 1000: 0.141147\n",
            "Avg mini batch cost after epoch 1100: 0.107583\n",
            "Avg mini batch cost after epoch 1200: 0.086271\n",
            "Avg mini batch cost after epoch 1300: 0.059375\n",
            "Avg mini batch cost after epoch 1400: 0.052221\n"
          ],
          "name": "stdout"
        },
        {
          "output_type": "display_data",
          "data": {
            "image/png": "[encoded data removed]",
            "text/plain": [
              "<Figure size 432x288 with 1 Axes>"
            ]
          },
          "metadata": {
            "tags": [],
            "needs_background": "light"
          }
        },
        {
          "output_type": "stream",
          "text": [
            "Parameters have been trained!\n",
            "Train Accuracy: 0.9990741\n",
            "Test Accuracy: 0.71666664\n"
          ],
          "name": "stdout"
        }
      ]
    },
    {
      "cell_type": "markdown",
      "metadata": {
        "id": "l7vOmJnziZqL"
      },
      "source": [
        "## Inference"
      ]
    },
    {
      "cell_type": "code",
      "metadata": {
        "colab": {
          "base_uri": "https://localhost:8080/",
          "height": 319
        },
        "id": "sXJmTWmNbP0k",
        "outputId": "9752767b-319f-47a9-f078-fafe1554837e"
      },
      "source": [
        "index = 100\n",
        "test = X_test_orig[index]\n",
        "plt.imshow(test)\n",
        "print(\"Label of this image = \", str(Y_test_orig[0, index]))\n",
        "print(test.shape)\n",
        "test = test.reshape(test.shape[0]*test.shape[1]*test.shape[2], 1)\n",
        "print(test.shape)"
      ],
      "execution_count": 31,
      "outputs": [
        {
          "output_type": "stream",
          "text": [
            "Label of this image =  2\n",
            "(64, 64, 3)\n",
            "(12288, 1)\n"
          ],
          "name": "stdout"
        },
        {
          "output_type": "display_data",
          "data": {
            "image/png": "[encoded data removed]",
            "text/plain": [
              "<Figure size 432x288 with 1 Axes>"
            ]
          },
          "metadata": {
            "tags": [],
            "needs_background": "light"
          }
        }
      ]
    },
    {
      "cell_type": "code",
      "metadata": {
        "colab": {
          "base_uri": "https://localhost:8080/"
        },
        "id": "inHMRjFRieXZ",
        "outputId": "1262bbec-0649-4724-dfc2-34dd64fdb64e"
      },
      "source": [
        "x = tf.placeholder(\"float\", [12288, 1])\n",
        "z3 = forward_prop(x, parameters)\n",
        "p = tf.argmax(z3)\n",
        "sess = tf.Session()\n",
        "prediction = sess.run(p, feed_dict = {x: test})\n",
        "sess.close()\n",
        "print(\"Prediction: \", prediction)"
      ],
      "execution_count": 32,
      "outputs": [
        {
          "output_type": "stream",
          "text": [
            "Prediction:  [2]\n"
          ],
          "name": "stdout"
        }
      ]
    }
  ]
}