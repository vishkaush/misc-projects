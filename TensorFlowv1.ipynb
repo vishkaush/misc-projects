{
  "nbformat": 4,
  "nbformat_minor": 0,
  "metadata": {
    "colab": {
      "name": "TensorFlowv1.ipynb",
      "provenance": [],
      "authorship_tag": "ABX9TyP7u+D5jHwEQbnjTS17ovLm",
      "include_colab_link": true
    },
    "kernelspec": {
      "name": "python3",
      "display_name": "Python 3"
    },
    "language_info": {
      "name": "python"
    }
  },
  "cells": [
    {
      "cell_type": "markdown",
      "metadata": {
        "id": "view-in-github",
        "colab_type": "text"
      },
      "source": [
        "<a href=\"https://colab.research.google.com/github/vishkaush/misc-projects/blob/main/TensorFlowv1.ipynb\" target=\"_parent\"><img src=\"https://colab.research.google.com/assets/colab-badge.svg\" alt=\"Open In Colab\"/></a>"
      ]
    },
    {
      "cell_type": "markdown",
      "metadata": {
        "id": "p9EroSfWxu4E"
      },
      "source": [
        "# Getting Comfortable"
      ]
    },
    {
      "cell_type": "code",
      "metadata": {
        "id": "BS_PgQNhv8Jv"
      },
      "source": [
        "import numpy as np\n",
        "import tensorflow.compat.v1 as tf\n",
        "tf.disable_v2_behavior()"
      ],
      "execution_count": 12,
      "outputs": []
    },
    {
      "cell_type": "code",
      "metadata": {
        "colab": {
          "base_uri": "https://localhost:8080/"
        },
        "id": "FIJ7I9jTwB5s",
        "outputId": "f9f01aed-890d-4290-8042-653b8858d7e1"
      },
      "source": [
        "coefficients = np.array([[1.], [-10.], [25.]])\n",
        "w = tf.Variable(0,dtype=tf.float32)\n",
        "x = tf.placeholder(tf.float32, [3,1])  #to be used s coefficients of the cost functions\n",
        "#cost = tf.add(tf.add(w**2, tf.multiply(-10.,w)),25)   # J(w) = w^2-10w+25 = (w-5)^2\n",
        "#cost = w**2 - 10*w + 25 \n",
        "cost = x[0][0]*w**2 + x[1][0]*w + x[2][0]  #this is the heart of the program - internally builds a computation graph\n",
        "train = tf.train.GradientDescentOptimizer(0.01).minimize(cost) # specifies the algo, automatically computes the gradients\n",
        "init = tf.global_variables_initializer()\n",
        "session = tf.Session()\n",
        "session.run(init)\n",
        "print(session.run(w))\n",
        "#above three lines can be replaced by the following three lines\n",
        "# with tf.Session() as session:\n",
        "#   session.run(init)\n",
        "#   print(session.run(w))"
      ],
      "execution_count": 17,
      "outputs": [
        {
          "output_type": "stream",
          "text": [
            "0.0\n"
          ],
          "name": "stdout"
        }
      ]
    },
    {
      "cell_type": "code",
      "metadata": {
        "colab": {
          "base_uri": "https://localhost:8080/"
        },
        "id": "HFIWdYhbw81o",
        "outputId": "870a00dd-7485-4663-a5a6-c60fdadfbe65"
      },
      "source": [
        "session.run(train, feed_dict={x:coefficients})\n",
        "print(session.run(w))"
      ],
      "execution_count": 18,
      "outputs": [
        {
          "output_type": "stream",
          "text": [
            "0.099999994\n"
          ],
          "name": "stdout"
        }
      ]
    },
    {
      "cell_type": "code",
      "metadata": {
        "colab": {
          "base_uri": "https://localhost:8080/"
        },
        "id": "O-nhTk1gxi7f",
        "outputId": "33bdb9d7-8658-43e8-c903-cb172ffb0883"
      },
      "source": [
        "for i in range(1000):\n",
        "  session.run(train, feed_dict={x:coefficients})\n",
        "print(session.run(w))"
      ],
      "execution_count": 19,
      "outputs": [
        {
          "output_type": "stream",
          "text": [
            "4.999988\n"
          ],
          "name": "stdout"
        }
      ]
    },
    {
      "cell_type": "code",
      "metadata": {
        "id": "2220C6zFxqYN"
      },
      "source": [
        ""
      ],
      "execution_count": null,
      "outputs": []
    }
  ]
}