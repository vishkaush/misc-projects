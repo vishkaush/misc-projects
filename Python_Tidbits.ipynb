{
  "nbformat": 4,
  "nbformat_minor": 0,
  "metadata": {
    "colab": {
      "name": "Python Tidbits.ipynb",
      "provenance": [],
      "toc_visible": true,
      "authorship_tag": "ABX9TyPm9lzmmO4eX3VQi8HHLv0R",
      "include_colab_link": true
    },
    "kernelspec": {
      "name": "python3",
      "display_name": "Python 3"
    },
    "language_info": {
      "name": "python"
    }
  },
  "cells": [
    {
      "cell_type": "markdown",
      "metadata": {
        "id": "view-in-github",
        "colab_type": "text"
      },
      "source": [
        "<a href=\"https://colab.research.google.com/github/vishkaush/misc-projects/blob/main/Python_Tidbits.ipynb\" target=\"_parent\"><img src=\"https://colab.research.google.com/assets/colab-badge.svg\" alt=\"Open In Colab\"/></a>"
      ]
    },
    {
      "cell_type": "markdown",
      "metadata": {
        "id": "qQPSIW8FFqGw"
      },
      "source": [
        "# Init"
      ]
    },
    {
      "cell_type": "code",
      "metadata": {
        "id": "yXfds6ueFsrJ"
      },
      "source": [
        "import numpy as np"
      ],
      "execution_count": null,
      "outputs": []
    },
    {
      "cell_type": "markdown",
      "metadata": {
        "id": "FFmrz3Sr2nDu"
      },
      "source": [
        "# Rank 1 Arrays, Vectors, Matrices"
      ]
    },
    {
      "cell_type": "markdown",
      "metadata": {
        "id": "fr11jghe7BPk"
      },
      "source": [
        "## Python-Numpy Vectors vs Rank 1 Arrays"
      ]
    },
    {
      "cell_type": "code",
      "metadata": {
        "colab": {
          "base_uri": "https://localhost:8080/"
        },
        "id": "7lCgu_-H7FE3",
        "outputId": "dae554cf-b7c7-41f7-d284-a6d1f922463b"
      },
      "source": [
        "import numpy as np\n",
        "\n",
        "a = np.random.randn(5) # creates 5 random Gaussian numbers\n",
        "print(\"a= \", a)\n",
        "print(\"a's shape = \", a.shape) # rank 1 array - neither row vector, nor column vector\n",
        "print(\"a transpose = \", a.T) # remains the same!\n",
        "print(\"a dot a transpose = \", np.dot(a,a.T)) # you expect a 5X5 matrix, but you get a real number!\n",
        "# fix this by explicitly making it a column vector or a row vector like so:\n",
        "a = a.reshape((1,5))\n",
        "print(\"reshaped a = \", a)\n",
        "print(\"shape of reshaped a = \", a.shape)"
      ],
      "execution_count": null,
      "outputs": [
        {
          "output_type": "stream",
          "text": [
            "a=  [-0.57355539  0.2504224  -0.91226591 -1.10557317  0.75912332]\n",
            "a's shape =  (5,)\n",
            "a transpose =  [-0.57355539  0.2504224  -0.91226591 -1.10557317  0.75912332]\n",
            "a dot a transpose =  3.022466504603177\n",
            "reshaped a =  [[-0.57355539  0.2504224  -0.91226591 -1.10557317  0.75912332]]\n",
            "shape of reshaped a =  (1, 5)\n"
          ],
          "name": "stdout"
        }
      ]
    },
    {
      "cell_type": "code",
      "metadata": {
        "colab": {
          "base_uri": "https://localhost:8080/"
        },
        "id": "OuXQ9KxX776l",
        "outputId": "dabfa620-6e10-46d7-86f9-f4555746d546"
      },
      "source": [
        "# Hence, better to mention the dimensions explicitly even for vectors, i.e. treat vectors as matrices\n",
        "a = np.random.randn(5,1)\n",
        "print(\"a = \", a)\n",
        "print(\"a's shape = \", a.shape) \n",
        "print(\"a transpose = \", a.T) \n",
        "prod = np.dot(a,a.T)\n",
        "print(\"a dot a transpose = \", prod) \n",
        "assert(prod.shape == (5,5))  # good practice to do a sanity check of dimensions"
      ],
      "execution_count": null,
      "outputs": [
        {
          "output_type": "stream",
          "text": [
            "a =  [[-0.3280932 ]\n",
            " [ 0.94028645]\n",
            " [-0.19110386]\n",
            " [ 0.09285372]\n",
            " [ 0.50264559]]\n",
            "a's shape =  (5, 1)\n",
            "a transpose =  [[-0.3280932   0.94028645 -0.19110386  0.09285372  0.50264559]]\n",
            "a dot a transpose =  [[ 0.10764515 -0.30850159  0.06269988 -0.03046467 -0.1649146 ]\n",
            " [-0.30850159  0.8841386  -0.17969237  0.08730909  0.47263083]\n",
            " [ 0.06269988 -0.17969237  0.03652069 -0.0177447  -0.09605751]\n",
            " [-0.03046467  0.08730909 -0.0177447   0.00862181  0.04667251]\n",
            " [-0.1649146   0.47263083 -0.09605751  0.04667251  0.25265259]]\n"
          ],
          "name": "stdout"
        }
      ]
    },
    {
      "cell_type": "markdown",
      "metadata": {
        "id": "wRlEUnBq6HDC"
      },
      "source": [
        "## Sum"
      ]
    },
    {
      "cell_type": "code",
      "metadata": {
        "colab": {
          "base_uri": "https://localhost:8080/"
        },
        "id": "dzIco2jFzIhF",
        "outputId": "9d366122-f888-426c-d878-99b67391d98d"
      },
      "source": [
        "A = np.array([[1, 2, 3], [4, 5, 6], [7, 8, 9]])\n",
        "print(\"A = \", A)\n",
        "print(\"A's shape = \", A.shape)\n",
        "sumHorizontally = A.sum(axis=1, keepdims=True)\n",
        "print(\"After horizontal sum (preserving dimensions)= \", sumHorizontally)\n",
        "print(\"Shape after horizontal sum = \", sumHorizontally.shape)\n",
        "sumVertically = A.sum(axis=0)\n",
        "print(\"After vertical sum = \", sumVertically)\n",
        "print(\"Shape after vertical sum = \", sumVertically.shape)"
      ],
      "execution_count": null,
      "outputs": [
        {
          "output_type": "stream",
          "text": [
            "A =  [[1 2 3]\n",
            " [4 5 6]\n",
            " [7 8 9]]\n",
            "A's shape =  (3, 3)\n",
            "After horizontal sum (preserving dimensions)=  [[ 6]\n",
            " [15]\n",
            " [24]]\n",
            "Shape after horizontal sum =  (3, 1)\n",
            "After vertical sum =  [12 15 18]\n",
            "Shape after vertical sum =  (3,)\n"
          ],
          "name": "stdout"
        }
      ]
    },
    {
      "cell_type": "markdown",
      "metadata": {
        "id": "7ysgUAhQywWG"
      },
      "source": [
        "## Squeeze"
      ]
    },
    {
      "cell_type": "code",
      "metadata": {
        "id": "Oain77OqP9Zz",
        "colab": {
          "base_uri": "https://localhost:8080/"
        },
        "outputId": "a7339475-c606-4a5e-8804-5cb6b0a75a39"
      },
      "source": [
        "import numpy as np\n",
        "a = np.random.randn(2,3,3)\n",
        "print(a)\n",
        "print(\"a's shape before squeeze = \", a.shape)\n",
        "a = np.squeeze(a)\n",
        "print(a)\n",
        "print(\"a's shape after squeeze = \", a.shape)\n",
        "a = [[[17]]]\n",
        "a = np.array(a)\n",
        "print(a)\n",
        "print(\"a's shape before squeeze = \", a.shape)\n",
        "a = np.squeeze(a)\n",
        "print(a)\n",
        "print(\"a's shape after squeeze = \", a.shape)"
      ],
      "execution_count": null,
      "outputs": [
        {
          "output_type": "stream",
          "text": [
            "[[[-2.58416815  0.24120928  0.26002535]\n",
            "  [ 0.0380178  -0.1040927  -0.13101809]\n",
            "  [-0.18246522 -0.88276685  0.96643864]]\n",
            "\n",
            " [[-1.60314646  0.42656466 -0.33935789]\n",
            "  [-0.24507877  0.63956228  1.33653208]\n",
            "  [ 0.16451404 -0.54149442  0.21941277]]]\n",
            "a's shape before squeeze =  (2, 3, 3)\n",
            "[[[-2.58416815  0.24120928  0.26002535]\n",
            "  [ 0.0380178  -0.1040927  -0.13101809]\n",
            "  [-0.18246522 -0.88276685  0.96643864]]\n",
            "\n",
            " [[-1.60314646  0.42656466 -0.33935789]\n",
            "  [-0.24507877  0.63956228  1.33653208]\n",
            "  [ 0.16451404 -0.54149442  0.21941277]]]\n",
            "a's shape after squeeze =  (2, 3, 3)\n",
            "[[[17]]]\n",
            "a's shape before squeeze =  (1, 1, 1)\n",
            "17\n",
            "a's shape after squeeze =  ()\n"
          ],
          "name": "stdout"
        }
      ]
    },
    {
      "cell_type": "markdown",
      "metadata": {
        "id": "i7v5ORtfaZLp"
      },
      "source": [
        "# Benefits of Vectorization"
      ]
    },
    {
      "cell_type": "markdown",
      "metadata": {
        "id": "Z9xt0QXxccqd"
      },
      "source": [
        "## Dot (Inner) Product"
      ]
    },
    {
      "cell_type": "code",
      "metadata": {
        "colab": {
          "base_uri": "https://localhost:8080/"
        },
        "id": "w9X24ozqZJRi",
        "outputId": "1da6ea09-5883-40be-d24f-6777f299d758"
      },
      "source": [
        "import numpy as np\n",
        "import math\n",
        "a = np.random.rand(100)\n",
        "b = np.random.rand(100)\n",
        "%time c=np.dot(a,b)\n",
        "print(\"Dot product = \", c)"
      ],
      "execution_count": null,
      "outputs": [
        {
          "output_type": "stream",
          "text": [
            "CPU times: user 22 µs, sys: 0 ns, total: 22 µs\n",
            "Wall time: 26.5 µs\n",
            "Dot product =  22.142277202972636\n"
          ],
          "name": "stdout"
        }
      ]
    },
    {
      "cell_type": "code",
      "metadata": {
        "colab": {
          "base_uri": "https://localhost:8080/"
        },
        "id": "NBkiwrGCZwhA",
        "outputId": "7f828274-95e7-4134-a248-9d7a48ec323a"
      },
      "source": [
        "%%time\n",
        "c = 0\n",
        "for i in range(len(a)):\n",
        "  c += a[i]*b[i]"
      ],
      "execution_count": null,
      "outputs": [
        {
          "output_type": "stream",
          "text": [
            "CPU times: user 66 µs, sys: 17 µs, total: 83 µs\n",
            "Wall time: 84.9 µs\n"
          ],
          "name": "stdout"
        }
      ]
    },
    {
      "cell_type": "code",
      "metadata": {
        "colab": {
          "base_uri": "https://localhost:8080/"
        },
        "id": "gh_lH9ThbHTJ",
        "outputId": "ac0921f5-9c17-47df-88a0-a2e68f512f98"
      },
      "source": [
        "print(\"Dot product = \", c)"
      ],
      "execution_count": null,
      "outputs": [
        {
          "output_type": "stream",
          "text": [
            "Dot product =  22.14227720297264\n"
          ],
          "name": "stdout"
        }
      ]
    },
    {
      "cell_type": "markdown",
      "metadata": {
        "id": "Z3NsxIridLsj"
      },
      "source": [
        "## Outer Product"
      ]
    },
    {
      "cell_type": "code",
      "metadata": {
        "colab": {
          "base_uri": "https://localhost:8080/"
        },
        "id": "C74k7ZyedN7K",
        "outputId": "91e18a55-b131-4450-c90b-36f0d80269f1"
      },
      "source": [
        "%%time\n",
        "outer = np.zeros((len(a),len(b)))\n",
        "for i in range(len(a)):\n",
        "    for j in range(len(b)):\n",
        "        outer[i,j] = a[i]*b[j]"
      ],
      "execution_count": null,
      "outputs": [
        {
          "output_type": "stream",
          "text": [
            "CPU times: user 10.3 ms, sys: 0 ns, total: 10.3 ms\n",
            "Wall time: 10.8 ms\n"
          ],
          "name": "stdout"
        }
      ]
    },
    {
      "cell_type": "code",
      "metadata": {
        "colab": {
          "base_uri": "https://localhost:8080/"
        },
        "id": "wM2CFpL-d572",
        "outputId": "44806316-8baa-4717-a80c-669f277beb1e"
      },
      "source": [
        "%time outer = np.outer(a,b)"
      ],
      "execution_count": null,
      "outputs": [
        {
          "output_type": "stream",
          "text": [
            "CPU times: user 152 µs, sys: 0 ns, total: 152 µs\n",
            "Wall time: 157 µs\n"
          ],
          "name": "stdout"
        }
      ]
    },
    {
      "cell_type": "markdown",
      "metadata": {
        "id": "ciVbYv7neGaw"
      },
      "source": [
        "## Element-wise multiplication"
      ]
    },
    {
      "cell_type": "code",
      "metadata": {
        "colab": {
          "base_uri": "https://localhost:8080/"
        },
        "id": "BTvHXtmReJdc",
        "outputId": "5262f43d-872a-4260-b056-8728d555f9e0"
      },
      "source": [
        "%%time\n",
        "mul = np.zeros(len(a))\n",
        "for i in range(len(a)):\n",
        "    mul[i] = a[i]*b[i]"
      ],
      "execution_count": null,
      "outputs": [
        {
          "output_type": "stream",
          "text": [
            "CPU times: user 0 ns, sys: 133 µs, total: 133 µs\n",
            "Wall time: 156 µs\n"
          ],
          "name": "stdout"
        }
      ]
    },
    {
      "cell_type": "code",
      "metadata": {
        "id": "jRn8W08neSv-",
        "colab": {
          "base_uri": "https://localhost:8080/"
        },
        "outputId": "76ae3a05-844e-40e3-a20e-2a7c6cc01f3a"
      },
      "source": [
        "%time mul = np.multiply(a,b)"
      ],
      "execution_count": null,
      "outputs": [
        {
          "output_type": "stream",
          "text": [
            "CPU times: user 36 µs, sys: 6 µs, total: 42 µs\n",
            "Wall time: 55.6 µs\n"
          ],
          "name": "stdout"
        }
      ]
    },
    {
      "cell_type": "markdown",
      "metadata": {
        "id": "quQCdh9KwhSc"
      },
      "source": [
        "## Product of Matrix and Vector"
      ]
    },
    {
      "cell_type": "code",
      "metadata": {
        "id": "pp96JFuLbTfJ"
      },
      "source": [
        "A = np.random.rand(1000,1000)\n",
        "v = np.random.rand(1000)\n",
        "u = np.zeros((1000, 1))"
      ],
      "execution_count": null,
      "outputs": []
    },
    {
      "cell_type": "code",
      "metadata": {
        "colab": {
          "base_uri": "https://localhost:8080/"
        },
        "id": "jgsC2Kvwx1CD",
        "outputId": "1839119e-690a-490e-fb05-a74bb5fbcb0f"
      },
      "source": [
        "%%time\n",
        "for i in range(1000):\n",
        "  for j in range(1000):\n",
        "    u[i] += A[i][j]*v[j]"
      ],
      "execution_count": null,
      "outputs": [
        {
          "output_type": "stream",
          "text": [
            "CPU times: user 3.59 s, sys: 0 ns, total: 3.59 s\n",
            "Wall time: 3.6 s\n"
          ],
          "name": "stdout"
        }
      ]
    },
    {
      "cell_type": "code",
      "metadata": {
        "colab": {
          "base_uri": "https://localhost:8080/"
        },
        "id": "pOdRBrrux_po",
        "outputId": "3a6bc4a1-874c-4a2d-b79d-b96cdeda80cf"
      },
      "source": [
        "%%time\n",
        "u = np.dot(A,v)  # np.dot is used for matrix-matrix and matrix-vector multiplication"
      ],
      "execution_count": null,
      "outputs": [
        {
          "output_type": "stream",
          "text": [
            "CPU times: user 5.32 ms, sys: 0 ns, total: 5.32 ms\n",
            "Wall time: 4.73 ms\n"
          ],
          "name": "stdout"
        }
      ]
    },
    {
      "cell_type": "markdown",
      "metadata": {
        "id": "zVt_8vi7ysxH"
      },
      "source": [
        "## Exponent"
      ]
    },
    {
      "cell_type": "code",
      "metadata": {
        "colab": {
          "base_uri": "https://localhost:8080/"
        },
        "id": "8iFxFlBNyKIH",
        "outputId": "2c597ba1-f862-482c-ab3f-390ccc6cb3e0"
      },
      "source": [
        "%%time\n",
        "u = np.zeros((1000,1))\n",
        "for i in range(1000):\n",
        "  u[i]=math.exp(v[i])"
      ],
      "execution_count": null,
      "outputs": [
        {
          "output_type": "stream",
          "text": [
            "CPU times: user 1.07 ms, sys: 0 ns, total: 1.07 ms\n",
            "Wall time: 1.13 ms\n"
          ],
          "name": "stdout"
        }
      ]
    },
    {
      "cell_type": "code",
      "metadata": {
        "colab": {
          "base_uri": "https://localhost:8080/"
        },
        "id": "M7A8Dixqy413",
        "outputId": "f5dfaa7b-3235-4869-e21f-c3a01a845f84"
      },
      "source": [
        "%%time\n",
        "u = np.exp(v)"
      ],
      "execution_count": null,
      "outputs": [
        {
          "output_type": "stream",
          "text": [
            "CPU times: user 70 µs, sys: 0 ns, total: 70 µs\n",
            "Wall time: 74.1 µs\n"
          ],
          "name": "stdout"
        }
      ]
    },
    {
      "cell_type": "markdown",
      "metadata": {
        "id": "HJH5W_wB3YFu"
      },
      "source": [
        "# Frequently Used Operations"
      ]
    },
    {
      "cell_type": "markdown",
      "metadata": {
        "id": "flCaJh_66tpc"
      },
      "source": [
        "## Generating a sequence of numbers"
      ]
    },
    {
      "cell_type": "code",
      "metadata": {
        "colab": {
          "base_uri": "https://localhost:8080/"
        },
        "id": "PNP_BNTbPcWX",
        "outputId": "44627f4c-8347-415a-fdd5-dfbf61a48a3f"
      },
      "source": [
        "# only integral\n",
        "for i in range(1, 10, 2):\n",
        "  print(i, end=\", \")"
      ],
      "execution_count": null,
      "outputs": [
        {
          "output_type": "stream",
          "text": [
            "1, 3, 5, 7, 9, "
          ],
          "name": "stdout"
        }
      ]
    },
    {
      "cell_type": "code",
      "metadata": {
        "colab": {
          "base_uri": "https://localhost:8080/"
        },
        "id": "uFiFQpZ7RE59",
        "outputId": "c959ee62-b5a6-489a-b771-a827edefb540"
      },
      "source": [
        "[x * 0.1 for x in range(0, 10)]"
      ],
      "execution_count": null,
      "outputs": [
        {
          "output_type": "execute_result",
          "data": {
            "text/plain": [
              "[0.0,\n",
              " 0.1,\n",
              " 0.2,\n",
              " 0.30000000000000004,\n",
              " 0.4,\n",
              " 0.5,\n",
              " 0.6000000000000001,\n",
              " 0.7000000000000001,\n",
              " 0.8,\n",
              " 0.9]"
            ]
          },
          "metadata": {
            "tags": []
          },
          "execution_count": 17
        }
      ]
    },
    {
      "cell_type": "code",
      "metadata": {
        "colab": {
          "base_uri": "https://localhost:8080/"
        },
        "id": "UfObOf9qQL3E",
        "outputId": "5f764047-43c4-4b0a-836c-5e316631b870"
      },
      "source": [
        "import numpy as np\n",
        "np.arange(1, 2, 0.1) # same as scipy.arange"
      ],
      "execution_count": null,
      "outputs": [
        {
          "output_type": "execute_result",
          "data": {
            "text/plain": [
              "array([1. , 1.1, 1.2, 1.3, 1.4, 1.5, 1.6, 1.7, 1.8, 1.9])"
            ]
          },
          "metadata": {
            "tags": []
          },
          "execution_count": 15
        }
      ]
    },
    {
      "cell_type": "code",
      "metadata": {
        "colab": {
          "base_uri": "https://localhost:8080/"
        },
        "id": "t9fRCjclQgm4",
        "outputId": "59486dc1-e3e9-4c81-819f-f08148daaf30"
      },
      "source": [
        "np.arange(1, 1.3, 0.1) # should produce three numbers, but produces 4 due to floating point round off error"
      ],
      "execution_count": null,
      "outputs": [
        {
          "output_type": "execute_result",
          "data": {
            "text/plain": [
              "array([1. , 1.1, 1.2, 1.3])"
            ]
          },
          "metadata": {
            "tags": []
          },
          "execution_count": 14
        }
      ]
    },
    {
      "cell_type": "code",
      "metadata": {
        "colab": {
          "base_uri": "https://localhost:8080/"
        },
        "id": "EAYVqxhkPflg",
        "outputId": "c1f57779-a2a6-441f-9571-c0d671e31daf"
      },
      "source": [
        "# preferred and more accurate approach\n",
        "np.linspace(1, 2, 10)\n"
      ],
      "execution_count": null,
      "outputs": [
        {
          "output_type": "execute_result",
          "data": {
            "text/plain": [
              "array([1.        , 1.11111111, 1.22222222, 1.33333333, 1.44444444,\n",
              "       1.55555556, 1.66666667, 1.77777778, 1.88888889, 2.        ])"
            ]
          },
          "metadata": {
            "tags": []
          },
          "execution_count": 16
        }
      ]
    },
    {
      "cell_type": "code",
      "metadata": {
        "colab": {
          "base_uri": "https://localhost:8080/"
        },
        "id": "a1iHLEZ87ogj",
        "outputId": "1c69286d-3d0e-4acf-e9ea-09a5fecea3de"
      },
      "source": [
        "# Reverse sequence\n",
        "for i in reversed(range(5)):\n",
        "  print(i)"
      ],
      "execution_count": null,
      "outputs": [
        {
          "output_type": "stream",
          "text": [
            "4\n",
            "3\n",
            "2\n",
            "1\n",
            "0\n"
          ],
          "name": "stdout"
        }
      ]
    },
    {
      "cell_type": "markdown",
      "metadata": {
        "id": "6nY8JVo-FVaN"
      },
      "source": [
        "## Resetting all values based on a condition"
      ]
    },
    {
      "cell_type": "code",
      "metadata": {
        "colab": {
          "base_uri": "https://localhost:8080/"
        },
        "id": "pOSUpi6UFcoX",
        "outputId": "0a2ba6e6-d580-4a1c-d7e9-7df74109f4fe"
      },
      "source": [
        "A = np.random.randn(2,3)\n",
        "print(A)\n",
        "B = np.random.rand(2,3)\n",
        "print(B)\n",
        "# wherever A is negative, we want those corresponding values of B to be set to 0\n",
        "B[A<0]=0\n",
        "print(B)"
      ],
      "execution_count": null,
      "outputs": [
        {
          "output_type": "stream",
          "text": [
            "[[ 0.31733538  0.01038299  0.76026247]\n",
            " [-0.25217665  0.00297796 -0.20304938]]\n",
            "[[0.52945674 0.17640043 0.52786446]\n",
            " [0.42747632 0.86671306 0.07339918]]\n",
            "[[0.52945674 0.17640043 0.52786446]\n",
            " [0.         0.86671306 0.        ]]\n"
          ],
          "name": "stdout"
        }
      ]
    },
    {
      "cell_type": "code",
      "metadata": {
        "colab": {
          "base_uri": "https://localhost:8080/"
        },
        "id": "e_vFtghEGCpW",
        "outputId": "2d308ede-86f3-42c1-d201-eb0969f0334a"
      },
      "source": [
        "probs = np.random.rand(1, 10)\n",
        "print(probs)\n",
        "#wherever probs > 0.5, set it to 0\n",
        "preds = np.where(probs>0.5, 1, 0)  \n",
        "print(preds)"
      ],
      "execution_count": null,
      "outputs": [
        {
          "output_type": "stream",
          "text": [
            "[[0.38615803 0.16894986 0.67880304 0.59000636 0.53934493 0.21668012\n",
            "  0.78379128 0.82952814 0.54036008 0.49767768]]\n",
            "[[0 0 1 1 1 0 1 1 1 0]]\n"
          ],
          "name": "stdout"
        }
      ]
    },
    {
      "cell_type": "markdown",
      "metadata": {
        "id": "ZGU7h49KHSeX"
      },
      "source": [
        "## Comparing two binary vectors"
      ]
    },
    {
      "cell_type": "code",
      "metadata": {
        "colab": {
          "base_uri": "https://localhost:8080/"
        },
        "id": "8bJbb1kVHkvW",
        "outputId": "4cd8969d-426b-4b9a-c235-037212aa624a"
      },
      "source": [
        "one = np.array([[1, 0, 1, 0, 1, 0, 1, 0, 1, 1]])\n",
        "two = np.array([[1, 1, 1, 1, 1, 1, 1, 1, 1, 1]])\n",
        "accuracy1 = 100 - np.mean(np.abs(two - one)) * 100     # 1 - wherever they are different\n",
        "print(accuracy1)\n",
        "accuracy2 = ((np.dot(one,two.T) + np.dot(1-one,(1-two).T))/(one.size)*100).squeeze()  #both 1s + both 0s\n",
        "print(accuracy2)\n",
        "accuracy3 = (np.sum((one == two)/one.size))*100\n",
        "print(accuracy3)"
      ],
      "execution_count": null,
      "outputs": [
        {
          "output_type": "stream",
          "text": [
            "60.0\n",
            "60.0\n",
            "60.0\n"
          ],
          "name": "stdout"
        }
      ]
    },
    {
      "cell_type": "markdown",
      "metadata": {
        "id": "YYgwfW3F33o3"
      },
      "source": [
        "# Some Python Features"
      ]
    },
    {
      "cell_type": "markdown",
      "metadata": {
        "id": "m4Z14tqaH8n4"
      },
      "source": [
        "## Chaining operators"
      ]
    },
    {
      "cell_type": "code",
      "metadata": {
        "colab": {
          "base_uri": "https://localhost:8080/"
        },
        "id": "HwVO3aK1eUzM",
        "outputId": "d8d65f22-4937-4c8a-d698-eb6f2b2d0da4"
      },
      "source": [
        "a=3\n",
        "if a>2 and a<5:\n",
        "  print('Eureka!')\n",
        "if 2<a<5:\n",
        "  print('Eureka!')"
      ],
      "execution_count": null,
      "outputs": [
        {
          "output_type": "stream",
          "text": [
            "Eureka!\n",
            "Eureka!\n"
          ],
          "name": "stdout"
        }
      ]
    },
    {
      "cell_type": "markdown",
      "metadata": {
        "id": "dHu3vGhHecaL"
      },
      "source": [
        "## Post Python 3.7, dictionaries are ordered"
      ]
    },
    {
      "cell_type": "code",
      "metadata": {
        "colab": {
          "base_uri": "https://localhost:8080/"
        },
        "id": "c-y0uCTterIs",
        "outputId": "48eb05a3-6d09-4210-8ef6-76f58b7b9d68"
      },
      "source": [
        "a = {'one':1, 'two':2, 'three':3, 'four':4, 'five':5}\n",
        "print(a)\n",
        "for key in a:\n",
        "  print(key)"
      ],
      "execution_count": null,
      "outputs": [
        {
          "output_type": "stream",
          "text": [
            "{'one': 1, 'two': 2, 'three': 3, 'four': 4, 'five': 5}\n",
            "one\n",
            "two\n",
            "three\n",
            "four\n",
            "five\n"
          ],
          "name": "stdout"
        }
      ]
    },
    {
      "cell_type": "markdown",
      "metadata": {
        "id": "JTcoNATSfVGt"
      },
      "source": [
        "The keys in a dictionary are much like a set, which is a collection of hashable and unique objects. Because the objects need to be hashable, mutable objects can’t be used as dictionary keys.\n",
        "\n",
        "In Python 2.7, dictionaries are unordered structures. The order of the dictionaries’ items is scrambled. This means that the order of the items is deterministic and repeatable. If you leave the interpreter and open a new interactive session later, you’ll get the same item order\n",
        "\n",
        "In Python 3.5, dictionaries are still unordered, but this time, randomized data structures. This means that every time you re-run the dictionary, you’ll get a different items order.\n",
        "\n",
        "In Python 3.6 and beyond, the keys and values of a dictionary are iterated over in the same order in which they were created. However, this behavior may vary across different Python versions, and it depends on the dictionary’s history of insertions and deletions."
      ]
    },
    {
      "cell_type": "markdown",
      "metadata": {
        "id": "6s6jqapHUPuL"
      },
      "source": [
        "# Random"
      ]
    },
    {
      "cell_type": "code",
      "metadata": {
        "colab": {
          "base_uri": "https://localhost:8080/"
        },
        "id": "AWXCmj6TfpSd",
        "outputId": "af11327f-1460-4810-bbe8-a4b7e6af70c0"
      },
      "source": [
        "# get a random number between [x,y]\n",
        "import random\n",
        "a = random.randint(3,10)\n",
        "print(a)"
      ],
      "execution_count": null,
      "outputs": [
        {
          "output_type": "stream",
          "text": [
            "9\n"
          ],
          "name": "stdout"
        }
      ]
    }
  ]
}