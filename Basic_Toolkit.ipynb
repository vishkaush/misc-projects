{
  "nbformat": 4,
  "nbformat_minor": 0,
  "metadata": {
    "colab": {
      "name": "Basic Toolkit.ipynb",
      "provenance": [],
      "authorship_tag": "ABX9TyNePBnP7SpzpokVqbrpC44S",
      "include_colab_link": true
    },
    "kernelspec": {
      "name": "python3",
      "display_name": "Python 3"
    },
    "language_info": {
      "name": "python"
    }
  },
  "cells": [
    {
      "cell_type": "markdown",
      "metadata": {
        "id": "view-in-github",
        "colab_type": "text"
      },
      "source": [
        "<a href=\"https://colab.research.google.com/github/vishkaush/misc-projects/blob/main/Basic_Toolkit.ipynb\" target=\"_parent\"><img src=\"https://colab.research.google.com/assets/colab-badge.svg\" alt=\"Open In Colab\"/></a>"
      ]
    },
    {
      "cell_type": "markdown",
      "metadata": {
        "id": "bgXSniLYOc2O"
      },
      "source": [
        "# Sigmoid Function"
      ]
    },
    {
      "cell_type": "code",
      "metadata": {
        "colab": {
          "base_uri": "https://localhost:8080/",
          "height": 299
        },
        "id": "TJ3uyFgzOfPb",
        "outputId": "ba00919a-9e19-46a5-8be7-8af7570aa10b"
      },
      "source": [
        "import math\n",
        "import numpy as np\n",
        "import matplotlib.pyplot as plt\n",
        "\n",
        "def math_exp_sigmoid(x): #takes only real numbers\n",
        "  s = 1/(1+math.exp(-x))  \n",
        "  return s\n",
        "\n",
        "def sigmoid(x):\n",
        "  s = 1/(1+np.exp(-x))\n",
        "  return s\n",
        "\n",
        "xs = [x/10 for x in range(-50, 51, 1)]\n",
        "xs = np.array(xs)\n",
        "print(xs.shape)\n",
        "#ys = math_exp_sigmoid(xs)  #takes only real numbers\n",
        "ys = sigmoid(xs)\n",
        "plt.plot(xs, ys)"
      ],
      "execution_count": null,
      "outputs": [
        {
          "output_type": "stream",
          "text": [
            "(101,)\n"
          ],
          "name": "stdout"
        },
        {
          "output_type": "execute_result",
          "data": {
            "text/plain": [
              "[<matplotlib.lines.Line2D at 0x7f0b45127510>]"
            ]
          },
          "metadata": {
            "tags": []
          },
          "execution_count": 5
        },
        {
          "output_type": "display_data",
          "data": {
            "image/png": "[encoded data removed]",
            "text/plain": [
              "<Figure size 432x288 with 1 Axes>"
            ]
          },
          "metadata": {
            "tags": [],
            "needs_background": "light"
          }
        }
      ]
    },
    {
      "cell_type": "markdown",
      "metadata": {
        "id": "i5ewbrtTUccR"
      },
      "source": [
        "# RGB Image (a, b, c) to Vector (a X b X c, 1)"
      ]
    },
    {
      "cell_type": "code",
      "metadata": {
        "id": "r3TFunOCUgEe"
      },
      "source": [
        "def image2vec(image):\n",
        "  v = image.reshape(image.shape[0]*image.shape[1]*image.shape[2], 1)\n",
        "  return v"
      ],
      "execution_count": null,
      "outputs": []
    },
    {
      "cell_type": "markdown",
      "metadata": {
        "id": "u2Y4NmnWHaeS"
      },
      "source": [
        "# N RGB Images (N, a, b, c) to Data matrix (a X b X c, N)"
      ]
    },
    {
      "cell_type": "code",
      "metadata": {
        "colab": {
          "base_uri": "https://localhost:8080/"
        },
        "id": "ZTMOLLo-HnrZ",
        "outputId": "2e0ef55c-92cf-44f3-acea-d0a4b82d7751"
      },
      "source": [
        "import numpy as np\n",
        "X = np.random.rand(100, 64, 64, 3)\n",
        "print(\"X's shape = \", X.shape)\n",
        "X_flatten = X.reshape(X.shape[0], -1).T\n",
        "print(\"X_flatten's shape = \", X_flatten.shape)"
      ],
      "execution_count": 2,
      "outputs": [
        {
          "output_type": "stream",
          "text": [
            "X's shape =  (100, 64, 64, 3)\n",
            "X_flatten's shape =  (12288, 100)\n"
          ],
          "name": "stdout"
        }
      ]
    },
    {
      "cell_type": "markdown",
      "metadata": {
        "id": "HYzPAf-EW3Ry"
      },
      "source": [
        "# Normalizing rows of a matrix"
      ]
    },
    {
      "cell_type": "code",
      "metadata": {
        "colab": {
          "base_uri": "https://localhost:8080/"
        },
        "id": "iLKStk-HW7EG",
        "outputId": "fcfb2d11-187e-49e7-dd6d-77f4217004c9"
      },
      "source": [
        "# divide every element of every row by the l2-norm of that row so that every row vector becomes a unit vector\n",
        "# gradient descent converges faster after normalization\n",
        "def normalizeRows(x):\n",
        "  x_norm = np.linalg.norm(x,axis=1,keepdims=True)\n",
        "  x = x/x_norm #will do appropriate broadcasting\n",
        "  return x\n",
        "\n",
        "x = np.array([\n",
        "    [0, 3, 4],\n",
        "    [1, 6, 4]])\n",
        "print(\"normalizeRows(x) = \" + str(normalizeRows(x)))"
      ],
      "execution_count": null,
      "outputs": [
        {
          "output_type": "stream",
          "text": [
            "normalizeRows(x) = [[0.         0.6        0.8       ]\n",
            " [0.13736056 0.82416338 0.54944226]]\n"
          ],
          "name": "stdout"
        }
      ]
    },
    {
      "cell_type": "markdown",
      "metadata": {
        "id": "xlv7ke4EarNo"
      },
      "source": [
        "# Softmax"
      ]
    },
    {
      "cell_type": "code",
      "metadata": {
        "id": "Oc5_UWRyathX"
      },
      "source": [
        "# accepts x as a row vector or matrix\n",
        "# calulates softmax for each row of x\n",
        "def softmax(x):\n",
        "  x_exp = np.exp(x)\n",
        "  x_sum = np.sum(x_exp,axis=1,keepdims=True)\n",
        "  s = x_exp/x_sum\n",
        "  return s\n",
        "\n"
      ],
      "execution_count": null,
      "outputs": []
    },
    {
      "cell_type": "markdown",
      "metadata": {
        "id": "g-fEgQXHfRLL"
      },
      "source": [
        "# L1 Loss"
      ]
    },
    {
      "cell_type": "code",
      "metadata": {
        "id": "mDZcwrdXfTHw"
      },
      "source": [
        "def L1(yhat, y):\n",
        "  loss = sum(abs(y-yhat))\n",
        "  return loss"
      ],
      "execution_count": null,
      "outputs": []
    },
    {
      "cell_type": "markdown",
      "metadata": {
        "id": "mSE_CL-dft9t"
      },
      "source": [
        "# L2 Loss"
      ]
    },
    {
      "cell_type": "code",
      "metadata": {
        "id": "f7mOyZRcfvcI"
      },
      "source": [
        "def L2(yhat, y):\n",
        "  loss = sum((y-yhat)**2)\n",
        "  return loss\n"
      ],
      "execution_count": null,
      "outputs": []
    }
  ]
}