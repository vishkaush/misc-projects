{
  "nbformat": 4,
  "nbformat_minor": 0,
  "metadata": {
    "colab": {
      "name": "Machine Learning.ipynb",
      "provenance": [],
      "authorship_tag": "ABX9TyO2O/svs+YyvkH9tGUcB41N",
      "include_colab_link": true
    },
    "kernelspec": {
      "name": "python3",
      "display_name": "Python 3"
    },
    "language_info": {
      "name": "python"
    }
  },
  "cells": [
    {
      "cell_type": "markdown",
      "metadata": {
        "id": "view-in-github",
        "colab_type": "text"
      },
      "source": [
        "<a href=\"https://colab.research.google.com/github/vishkaush/misc-projects/blob/main/Machine_Learning.ipynb\" target=\"_parent\"><img src=\"https://colab.research.google.com/assets/colab-badge.svg\" alt=\"Open In Colab\"/></a>"
      ]
    },
    {
      "cell_type": "markdown",
      "metadata": {
        "id": "hzAmLOu45120"
      },
      "source": [
        "# Logistic Regression from scratch"
      ]
    },
    {
      "cell_type": "code",
      "metadata": {
        "id": "h5YkVR795lkp"
      },
      "source": [
        "# num_examples = 100\n",
        "# num_features = 10\n",
        "\n",
        "# w = np.random.rand(num_features, 1)\n",
        "# dw = np.zeros((num_features, 1))\n",
        "# db = 0\n",
        "# z = np.dot(w.T, X) + b\n",
        "# a = #vector valued sigmoid(Z)\n",
        "# dz = a-y\n",
        "# db = (1/m)*np.sum(dz)\n",
        "# dw = (1/m)*np.dot(X, dz.T)\n",
        "# w = w - alpha*dW\n",
        "# b = b - alpha*dB"
      ],
      "execution_count": null,
      "outputs": []
    },
    {
      "cell_type": "code",
      "metadata": {
        "id": "K0s2L0cqDoXt"
      },
      "source": [
        "from sklearn.datasets import make_classification\n",
        "X, y = make_classification(n_features=2, n_redundant=0, \n",
        "                           n_informative=2, random_state=1, \n",
        "                           n_clusters_per_class=1)"
      ],
      "execution_count": 1,
      "outputs": []
    },
    {
      "cell_type": "code",
      "metadata": {
        "colab": {
          "base_uri": "https://localhost:8080/"
        },
        "id": "wQ8cixB1Dxdw",
        "outputId": "a0f40328-d153-4134-d581-8aa094e75686"
      },
      "source": [
        "print(X.shape)\n",
        "print(y.shape)"
      ],
      "execution_count": 2,
      "outputs": [
        {
          "output_type": "stream",
          "text": [
            "(100, 2)\n",
            "(100,)\n"
          ],
          "name": "stdout"
        }
      ]
    },
    {
      "cell_type": "code",
      "metadata": {
        "colab": {
          "base_uri": "https://localhost:8080/",
          "height": 282
        },
        "id": "hV3w8lRpEUU2",
        "outputId": "c6dd3408-e13b-466b-fc55-ee23b04a5b47"
      },
      "source": [
        "import matplotlib.pyplot as plt\n",
        "xs = [x[0] for x in X]\n",
        "ys = [x[1] for x in X]\n",
        "plt.scatter(xs, ys)"
      ],
      "execution_count": 6,
      "outputs": [
        {
          "output_type": "execute_result",
          "data": {
            "text/plain": [
              "<matplotlib.collections.PathCollection at 0x7f50f3e008d0>"
            ]
          },
          "metadata": {
            "tags": []
          },
          "execution_count": 6
        },
        {
          "output_type": "display_data",
          "data": {
            "image/png": "[encoded data removed]",
            "text/plain": [
              "<Figure size 432x288 with 1 Axes>"
            ]
          },
          "metadata": {
            "tags": [],
            "needs_background": "light"
          }
        }
      ]
    },
    {
      "cell_type": "code",
      "metadata": {
        "id": "JZiB_VWZFbKw"
      },
      "source": [
        ""
      ],
      "execution_count": null,
      "outputs": []
    }
  ]
}