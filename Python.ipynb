{
  "nbformat": 4,
  "nbformat_minor": 0,
  "metadata": {
    "colab": {
      "name": "Python.ipynb",
      "provenance": [],
      "authorship_tag": "ABX9TyPQ8MjTMUKBUY8mD0Bb/0ZU",
      "include_colab_link": true
    },
    "kernelspec": {
      "name": "python3",
      "display_name": "Python 3"
    },
    "language_info": {
      "name": "python"
    }
  },
  "cells": [
    {
      "cell_type": "markdown",
      "metadata": {
        "id": "view-in-github",
        "colab_type": "text"
      },
      "source": [
        "<a href=\"https://colab.research.google.com/github/vishkaush/misc-projects/blob/main/Python.ipynb\" target=\"_parent\"><img src=\"https://colab.research.google.com/assets/colab-badge.svg\" alt=\"Open In Colab\"/></a>"
      ]
    },
    {
      "cell_type": "markdown",
      "metadata": {
        "id": "fr11jghe7BPk"
      },
      "source": [
        "# Python-Numpy Vectors vs Rank 1 Arrays"
      ]
    },
    {
      "cell_type": "code",
      "metadata": {
        "colab": {
          "base_uri": "https://localhost:8080/"
        },
        "id": "7lCgu_-H7FE3",
        "outputId": "792ffc78-f264-4092-8054-8409322ea949"
      },
      "source": [
        "import numpy as np\n",
        "\n",
        "a = np.random.randn(5) # creates 5 random Gaussian numbers\n",
        "print(\"a= \", a)\n",
        "print(\"a's shape = \", a.shape) # rank 1 array - neither row vector, nor column vector\n",
        "print(\"a transpose = \", a.T) # remains the same!\n",
        "print(\"a dot a transpose = \", np.dot(a,a.T)) # you expect a 5X5 matrix, but you get a real number!\n",
        "# fix this by explicitly making it a column vector or a row vector like so:\n",
        "a = a.reshape((1,5))\n",
        "print(\"reshaped a = \", a)\n",
        "print(\"shape of reshaped a = \", a.shape)"
      ],
      "execution_count": null,
      "outputs": [
        {
          "output_type": "stream",
          "text": [
            "a=  [ 1.12212486  0.29191375  0.48777776 -1.25455834  0.27985007]\n",
            "a's shape =  (5,)\n",
            "a transpose =  [ 1.12212486  0.29191375  0.48777776 -1.25455834  0.27985007]\n",
            "a dot a transpose =  3.2345376856988937\n",
            "reshaped a =  [[ 1.12212486  0.29191375  0.48777776 -1.25455834  0.27985007]]\n",
            "shape of reshaped a =  (1, 5)\n"
          ],
          "name": "stdout"
        }
      ]
    },
    {
      "cell_type": "code",
      "metadata": {
        "colab": {
          "base_uri": "https://localhost:8080/"
        },
        "id": "OuXQ9KxX776l",
        "outputId": "c89f3a76-8166-4ae0-c9a0-7563a2a4bb3f"
      },
      "source": [
        "# Hence, better to mention the dimensions explicitly even for vectors, i.e. treat vectors as matrices\n",
        "a = np.random.randn(5,1)\n",
        "print(\"a = \", a)\n",
        "print(\"a's shape = \", a.shape) \n",
        "print(\"a transpose = \", a.T) \n",
        "prod = np.dot(a,a.T)\n",
        "print(\"a dot a transpose = \", prod) \n",
        "assert(prod.shape == (5,5))  # good practice to do a sanity check of dimensions"
      ],
      "execution_count": null,
      "outputs": [
        {
          "output_type": "stream",
          "text": [
            "a =  [[-0.20276811]\n",
            " [-0.05710923]\n",
            " [ 0.3410439 ]\n",
            " [ 0.51929858]\n",
            " [ 0.53560152]]\n",
            "a's shape =  (5, 1)\n",
            "a transpose =  [[-0.20276811 -0.05710923  0.3410439   0.51929858  0.53560152]]\n",
            "a dor a transpose =  [[ 0.04111491  0.01157993 -0.06915283 -0.10529719 -0.10860291]\n",
            " [ 0.01157993  0.00326146 -0.01947675 -0.02965674 -0.03058779]\n",
            " [-0.06915283 -0.01947675  0.11631094  0.17710361  0.18266363]\n",
            " [-0.10529719 -0.02965674  0.17710361  0.26967102  0.27813711]\n",
            " [-0.10860291 -0.03058779  0.18266363  0.27813711  0.28686899]]\n"
          ],
          "name": "stdout"
        }
      ]
    },
    {
      "cell_type": "markdown",
      "metadata": {
        "id": "i7v5ORtfaZLp"
      },
      "source": [
        "# Benefits of Vectorization"
      ]
    },
    {
      "cell_type": "markdown",
      "metadata": {
        "id": "Z9xt0QXxccqd"
      },
      "source": [
        "## Dot (Inner) Product"
      ]
    },
    {
      "cell_type": "code",
      "metadata": {
        "colab": {
          "base_uri": "https://localhost:8080/"
        },
        "id": "w9X24ozqZJRi",
        "outputId": "1da6ea09-5883-40be-d24f-6777f299d758"
      },
      "source": [
        "import numpy as np\n",
        "import math\n",
        "a = np.random.rand(100)\n",
        "b = np.random.rand(100)\n",
        "%time c=np.dot(a,b)\n",
        "print(\"Dot product = \", c)"
      ],
      "execution_count": null,
      "outputs": [
        {
          "output_type": "stream",
          "text": [
            "CPU times: user 22 µs, sys: 0 ns, total: 22 µs\n",
            "Wall time: 26.5 µs\n",
            "Dot product =  22.142277202972636\n"
          ],
          "name": "stdout"
        }
      ]
    },
    {
      "cell_type": "code",
      "metadata": {
        "colab": {
          "base_uri": "https://localhost:8080/"
        },
        "id": "NBkiwrGCZwhA",
        "outputId": "7f828274-95e7-4134-a248-9d7a48ec323a"
      },
      "source": [
        "%%time\n",
        "c = 0\n",
        "for i in range(len(a)):\n",
        "  c += a[i]*b[i]"
      ],
      "execution_count": null,
      "outputs": [
        {
          "output_type": "stream",
          "text": [
            "CPU times: user 66 µs, sys: 17 µs, total: 83 µs\n",
            "Wall time: 84.9 µs\n"
          ],
          "name": "stdout"
        }
      ]
    },
    {
      "cell_type": "code",
      "metadata": {
        "colab": {
          "base_uri": "https://localhost:8080/"
        },
        "id": "gh_lH9ThbHTJ",
        "outputId": "ac0921f5-9c17-47df-88a0-a2e68f512f98"
      },
      "source": [
        "print(\"Dot product = \", c)"
      ],
      "execution_count": null,
      "outputs": [
        {
          "output_type": "stream",
          "text": [
            "Dot product =  22.14227720297264\n"
          ],
          "name": "stdout"
        }
      ]
    },
    {
      "cell_type": "markdown",
      "metadata": {
        "id": "Z3NsxIridLsj"
      },
      "source": [
        "## Outer Product"
      ]
    },
    {
      "cell_type": "code",
      "metadata": {
        "colab": {
          "base_uri": "https://localhost:8080/"
        },
        "id": "C74k7ZyedN7K",
        "outputId": "91e18a55-b131-4450-c90b-36f0d80269f1"
      },
      "source": [
        "%%time\n",
        "outer = np.zeros((len(a),len(b)))\n",
        "for i in range(len(a)):\n",
        "    for j in range(len(b)):\n",
        "        outer[i,j] = a[i]*b[j]"
      ],
      "execution_count": null,
      "outputs": [
        {
          "output_type": "stream",
          "text": [
            "CPU times: user 10.3 ms, sys: 0 ns, total: 10.3 ms\n",
            "Wall time: 10.8 ms\n"
          ],
          "name": "stdout"
        }
      ]
    },
    {
      "cell_type": "code",
      "metadata": {
        "colab": {
          "base_uri": "https://localhost:8080/"
        },
        "id": "wM2CFpL-d572",
        "outputId": "44806316-8baa-4717-a80c-669f277beb1e"
      },
      "source": [
        "%time outer = np.outer(a,b)"
      ],
      "execution_count": null,
      "outputs": [
        {
          "output_type": "stream",
          "text": [
            "CPU times: user 152 µs, sys: 0 ns, total: 152 µs\n",
            "Wall time: 157 µs\n"
          ],
          "name": "stdout"
        }
      ]
    },
    {
      "cell_type": "markdown",
      "metadata": {
        "id": "ciVbYv7neGaw"
      },
      "source": [
        "## ELement-wise multiplication"
      ]
    },
    {
      "cell_type": "code",
      "metadata": {
        "colab": {
          "base_uri": "https://localhost:8080/"
        },
        "id": "BTvHXtmReJdc",
        "outputId": "5262f43d-872a-4260-b056-8728d555f9e0"
      },
      "source": [
        "%%time\n",
        "mul = np.zeros(len(a))\n",
        "for i in range(len(a)):\n",
        "    mul[i] = a[i]*b[i]"
      ],
      "execution_count": null,
      "outputs": [
        {
          "output_type": "stream",
          "text": [
            "CPU times: user 0 ns, sys: 133 µs, total: 133 µs\n",
            "Wall time: 156 µs\n"
          ],
          "name": "stdout"
        }
      ]
    },
    {
      "cell_type": "code",
      "metadata": {
        "id": "jRn8W08neSv-",
        "colab": {
          "base_uri": "https://localhost:8080/"
        },
        "outputId": "76ae3a05-844e-40e3-a20e-2a7c6cc01f3a"
      },
      "source": [
        "%time mul = np.multiply(a,b)"
      ],
      "execution_count": null,
      "outputs": [
        {
          "output_type": "stream",
          "text": [
            "CPU times: user 36 µs, sys: 6 µs, total: 42 µs\n",
            "Wall time: 55.6 µs\n"
          ],
          "name": "stdout"
        }
      ]
    },
    {
      "cell_type": "markdown",
      "metadata": {
        "id": "quQCdh9KwhSc"
      },
      "source": [
        "## Product of Matrix and Vector"
      ]
    },
    {
      "cell_type": "code",
      "metadata": {
        "id": "pp96JFuLbTfJ"
      },
      "source": [
        "A = np.random.rand(1000,1000)\n",
        "v = np.random.rand(1000)\n",
        "u = np.zeros((1000, 1))"
      ],
      "execution_count": null,
      "outputs": []
    },
    {
      "cell_type": "code",
      "metadata": {
        "colab": {
          "base_uri": "https://localhost:8080/"
        },
        "id": "jgsC2Kvwx1CD",
        "outputId": "1839119e-690a-490e-fb05-a74bb5fbcb0f"
      },
      "source": [
        "%%time\n",
        "for i in range(1000):\n",
        "  for j in range(1000):\n",
        "    u[i] += A[i][j]*v[j]"
      ],
      "execution_count": null,
      "outputs": [
        {
          "output_type": "stream",
          "text": [
            "CPU times: user 3.59 s, sys: 0 ns, total: 3.59 s\n",
            "Wall time: 3.6 s\n"
          ],
          "name": "stdout"
        }
      ]
    },
    {
      "cell_type": "code",
      "metadata": {
        "colab": {
          "base_uri": "https://localhost:8080/"
        },
        "id": "pOdRBrrux_po",
        "outputId": "3a6bc4a1-874c-4a2d-b79d-b96cdeda80cf"
      },
      "source": [
        "%%time\n",
        "u = np.dot(A,v)  # np.dot is used for matrix-matrix and matrix-vector multiplication"
      ],
      "execution_count": null,
      "outputs": [
        {
          "output_type": "stream",
          "text": [
            "CPU times: user 5.32 ms, sys: 0 ns, total: 5.32 ms\n",
            "Wall time: 4.73 ms\n"
          ],
          "name": "stdout"
        }
      ]
    },
    {
      "cell_type": "markdown",
      "metadata": {
        "id": "zVt_8vi7ysxH"
      },
      "source": [
        "## Exponent"
      ]
    },
    {
      "cell_type": "code",
      "metadata": {
        "colab": {
          "base_uri": "https://localhost:8080/"
        },
        "id": "8iFxFlBNyKIH",
        "outputId": "2c597ba1-f862-482c-ab3f-390ccc6cb3e0"
      },
      "source": [
        "%%time\n",
        "u = np.zeros((1000,1))\n",
        "for i in range(1000):\n",
        "  u[i]=math.exp(v[i])"
      ],
      "execution_count": null,
      "outputs": [
        {
          "output_type": "stream",
          "text": [
            "CPU times: user 1.07 ms, sys: 0 ns, total: 1.07 ms\n",
            "Wall time: 1.13 ms\n"
          ],
          "name": "stdout"
        }
      ]
    },
    {
      "cell_type": "code",
      "metadata": {
        "colab": {
          "base_uri": "https://localhost:8080/"
        },
        "id": "M7A8Dixqy413",
        "outputId": "f5dfaa7b-3235-4869-e21f-c3a01a845f84"
      },
      "source": [
        "%%time\n",
        "u = np.exp(v)"
      ],
      "execution_count": null,
      "outputs": [
        {
          "output_type": "stream",
          "text": [
            "CPU times: user 70 µs, sys: 0 ns, total: 70 µs\n",
            "Wall time: 74.1 µs\n"
          ],
          "name": "stdout"
        }
      ]
    },
    {
      "cell_type": "markdown",
      "metadata": {
        "id": "wRlEUnBq6HDC"
      },
      "source": [
        "# Sum"
      ]
    },
    {
      "cell_type": "code",
      "metadata": {
        "colab": {
          "base_uri": "https://localhost:8080/"
        },
        "id": "dzIco2jFzIhF",
        "outputId": "9d366122-f888-426c-d878-99b67391d98d"
      },
      "source": [
        "A = np.array([[1, 2, 3], [4, 5, 6], [7, 8, 9]])\n",
        "print(\"A = \", A)\n",
        "print(\"A's shape = \", A.shape)\n",
        "sumHorizontally = A.sum(axis=1, keepdims=True)\n",
        "print(\"After horizontal sum (preserving dimensions)= \", sumHorizontally)\n",
        "print(\"Shape after horizontal sum = \", sumHorizontally.shape)\n",
        "sumVertically = A.sum(axis=0)\n",
        "print(\"After vertical sum = \", sumVertically)\n",
        "print(\"Shape after vertical sum = \", sumVertically.shape)"
      ],
      "execution_count": null,
      "outputs": [
        {
          "output_type": "stream",
          "text": [
            "A =  [[1 2 3]\n",
            " [4 5 6]\n",
            " [7 8 9]]\n",
            "A's shape =  (3, 3)\n",
            "After horizontal sum (preserving dimensions)=  [[ 6]\n",
            " [15]\n",
            " [24]]\n",
            "Shape after horizontal sum =  (3, 1)\n",
            "After vertical sum =  [12 15 18]\n",
            "Shape after vertical sum =  (3,)\n"
          ],
          "name": "stdout"
        }
      ]
    },
    {
      "cell_type": "markdown",
      "metadata": {
        "id": "flCaJh_66tpc"
      },
      "source": [
        "# Generating a sequence of numbers"
      ]
    },
    {
      "cell_type": "code",
      "metadata": {
        "colab": {
          "base_uri": "https://localhost:8080/"
        },
        "id": "PNP_BNTbPcWX",
        "outputId": "44627f4c-8347-415a-fdd5-dfbf61a48a3f"
      },
      "source": [
        "# only integral\n",
        "for i in range(1, 10, 2):\n",
        "  print(i, end=\", \")"
      ],
      "execution_count": null,
      "outputs": [
        {
          "output_type": "stream",
          "text": [
            "1, 3, 5, 7, 9, "
          ],
          "name": "stdout"
        }
      ]
    },
    {
      "cell_type": "code",
      "metadata": {
        "colab": {
          "base_uri": "https://localhost:8080/"
        },
        "id": "uFiFQpZ7RE59",
        "outputId": "c959ee62-b5a6-489a-b771-a827edefb540"
      },
      "source": [
        "[x * 0.1 for x in range(0, 10)]"
      ],
      "execution_count": null,
      "outputs": [
        {
          "output_type": "execute_result",
          "data": {
            "text/plain": [
              "[0.0,\n",
              " 0.1,\n",
              " 0.2,\n",
              " 0.30000000000000004,\n",
              " 0.4,\n",
              " 0.5,\n",
              " 0.6000000000000001,\n",
              " 0.7000000000000001,\n",
              " 0.8,\n",
              " 0.9]"
            ]
          },
          "metadata": {
            "tags": []
          },
          "execution_count": 17
        }
      ]
    },
    {
      "cell_type": "code",
      "metadata": {
        "colab": {
          "base_uri": "https://localhost:8080/"
        },
        "id": "UfObOf9qQL3E",
        "outputId": "5f764047-43c4-4b0a-836c-5e316631b870"
      },
      "source": [
        "import numpy as np\n",
        "np.arange(1, 2, 0.1) # same as scipy.arange"
      ],
      "execution_count": null,
      "outputs": [
        {
          "output_type": "execute_result",
          "data": {
            "text/plain": [
              "array([1. , 1.1, 1.2, 1.3, 1.4, 1.5, 1.6, 1.7, 1.8, 1.9])"
            ]
          },
          "metadata": {
            "tags": []
          },
          "execution_count": 15
        }
      ]
    },
    {
      "cell_type": "code",
      "metadata": {
        "colab": {
          "base_uri": "https://localhost:8080/"
        },
        "id": "t9fRCjclQgm4",
        "outputId": "59486dc1-e3e9-4c81-819f-f08148daaf30"
      },
      "source": [
        "np.arange(1, 1.3, 0.1) # should produce three numbers, but produces 4 due to floating point round off error"
      ],
      "execution_count": null,
      "outputs": [
        {
          "output_type": "execute_result",
          "data": {
            "text/plain": [
              "array([1. , 1.1, 1.2, 1.3])"
            ]
          },
          "metadata": {
            "tags": []
          },
          "execution_count": 14
        }
      ]
    },
    {
      "cell_type": "code",
      "metadata": {
        "colab": {
          "base_uri": "https://localhost:8080/"
        },
        "id": "EAYVqxhkPflg",
        "outputId": "c1f57779-a2a6-441f-9571-c0d671e31daf"
      },
      "source": [
        "# preferred and more accurate approach\n",
        "np.linspace(1, 2, 10)\n"
      ],
      "execution_count": null,
      "outputs": [
        {
          "output_type": "execute_result",
          "data": {
            "text/plain": [
              "array([1.        , 1.11111111, 1.22222222, 1.33333333, 1.44444444,\n",
              "       1.55555556, 1.66666667, 1.77777778, 1.88888889, 2.        ])"
            ]
          },
          "metadata": {
            "tags": []
          },
          "execution_count": 16
        }
      ]
    },
    {
      "cell_type": "code",
      "metadata": {
        "id": "Oain77OqP9Zz"
      },
      "source": [
        ""
      ],
      "execution_count": null,
      "outputs": []
    }
  ]
}