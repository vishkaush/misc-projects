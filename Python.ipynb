{
  "nbformat": 4,
  "nbformat_minor": 0,
  "metadata": {
    "colab": {
      "name": "Python.ipynb",
      "provenance": [],
      "authorship_tag": "ABX9TyOFUb7YoSj5N+CsvnqcBDON",
      "include_colab_link": true
    },
    "kernelspec": {
      "name": "python3",
      "display_name": "Python 3"
    },
    "language_info": {
      "name": "python"
    }
  },
  "cells": [
    {
      "cell_type": "markdown",
      "metadata": {
        "id": "view-in-github",
        "colab_type": "text"
      },
      "source": [
        "<a href=\"https://colab.research.google.com/github/vishkaush/misc-projects/blob/main/Python.ipynb\" target=\"_parent\"><img src=\"https://colab.research.google.com/assets/colab-badge.svg\" alt=\"Open In Colab\"/></a>"
      ]
    },
    {
      "cell_type": "markdown",
      "metadata": {
        "id": "fr11jghe7BPk"
      },
      "source": [
        "# Python-Numpy Vectors vs Rank 1 Arrays"
      ]
    },
    {
      "cell_type": "code",
      "metadata": {
        "colab": {
          "base_uri": "https://localhost:8080/"
        },
        "id": "7lCgu_-H7FE3",
        "outputId": "95819561-1fc8-4570-bc33-3d9f99482d2a"
      },
      "source": [
        "import numpy as np\n",
        "\n",
        "a = np.random.randn(5) # creates 5 random Gaussian numbers\n",
        "print(a)\n",
        "print(a.shape) # rank 1 array - neither row vector, nor column vector\n",
        "print(a.T) # remains the same!\n",
        "print(np.dot(a,a.T)) # you expect a 5X5 matrix, but you get a real number!\n",
        "# fix this by explicitly making it a column vector or a row vector like so:\n",
        "a = a.reshape((1,5))\n",
        "print(a)\n",
        "print(a.shape)"
      ],
      "execution_count": 35,
      "outputs": [
        {
          "output_type": "stream",
          "text": [
            "[ 1.26995487 -1.37511047 -0.27478235 -1.18064551 -0.65434548]\n",
            "(5,)\n",
            "[ 1.26995487 -1.37511047 -0.27478235 -1.18064551 -0.65434548]\n",
            "5.4013113546693265\n",
            "[[ 1.26995487 -1.37511047 -0.27478235 -1.18064551 -0.65434548]]\n",
            "(1, 5)\n"
          ],
          "name": "stdout"
        }
      ]
    },
    {
      "cell_type": "code",
      "metadata": {
        "colab": {
          "base_uri": "https://localhost:8080/"
        },
        "id": "OuXQ9KxX776l",
        "outputId": "6c7ce29f-5b42-4d01-e27c-9526994f81c5"
      },
      "source": [
        "# Hence, better to mention the dimensions explicitly even for vectors, i.e. treat vectors as matrices\n",
        "a = np.random.randn(5,1)\n",
        "print(a)\n",
        "print(a.shape) \n",
        "print(a.T) \n",
        "prod = np.dot(a,a.T)\n",
        "print(prod) \n",
        "assert(prod.shape == (5,5))  # good practice to do a sanity check of dimensions"
      ],
      "execution_count": 34,
      "outputs": [
        {
          "output_type": "stream",
          "text": [
            "[[0.00231313]\n",
            " [0.41684812]\n",
            " [1.32975425]\n",
            " [1.35505502]\n",
            " [0.76525001]]\n",
            "(5, 1)\n",
            "[[0.00231313 0.41684812 1.32975425 1.35505502 0.76525001]]\n",
            "[[5.35059132e-06 9.64225775e-04 3.07590045e-03 3.13442455e-03\n",
            "  1.77012622e-03]\n",
            " [9.64225775e-04 1.73762354e-01 5.54305556e-01 5.64852136e-01\n",
            "  3.18993027e-01]\n",
            " [3.07590045e-03 5.54305556e-01 1.76824635e+00 1.80189017e+00\n",
            "  1.01759445e+00]\n",
            " [3.13442455e-03 5.64852136e-01 1.80189017e+00 1.83617411e+00\n",
            "  1.03695587e+00]\n",
            " [1.77012622e-03 3.18993027e-01 1.01759445e+00 1.03695587e+00\n",
            "  5.85607577e-01]]\n"
          ],
          "name": "stdout"
        }
      ]
    },
    {
      "cell_type": "markdown",
      "metadata": {
        "id": "i7v5ORtfaZLp"
      },
      "source": [
        "# Benefits of Vectorization"
      ]
    },
    {
      "cell_type": "markdown",
      "metadata": {
        "id": "Z9xt0QXxccqd"
      },
      "source": [
        "## Dot Product"
      ]
    },
    {
      "cell_type": "code",
      "metadata": {
        "colab": {
          "base_uri": "https://localhost:8080/"
        },
        "id": "w9X24ozqZJRi",
        "outputId": "ffb6c001-0ff8-40b6-9a0f-4dcb1681c2d5"
      },
      "source": [
        "import numpy as np\n",
        "import math\n",
        "a = np.random.rand(1000000)\n",
        "b = np.random.rand(1000000)\n",
        "%time c=np.dot(a,b)\n",
        "print(\"Dot product = \", c)"
      ],
      "execution_count": 15,
      "outputs": [
        {
          "output_type": "stream",
          "text": [
            "CPU times: user 2.71 ms, sys: 1.11 ms, total: 3.83 ms\n",
            "Wall time: 5.48 ms\n",
            "Dot product =  250185.55851631792\n"
          ],
          "name": "stdout"
        }
      ]
    },
    {
      "cell_type": "code",
      "metadata": {
        "colab": {
          "base_uri": "https://localhost:8080/"
        },
        "id": "NBkiwrGCZwhA",
        "outputId": "d9e6ecd4-f826-486c-a115-6bd13604d89c"
      },
      "source": [
        "%%time\n",
        "c = 0\n",
        "for i in range(1000000):\n",
        "  c += a[i]*b[i]"
      ],
      "execution_count": 5,
      "outputs": [
        {
          "output_type": "stream",
          "text": [
            "CPU times: user 567 ms, sys: 1.85 ms, total: 569 ms\n",
            "Wall time: 570 ms\n"
          ],
          "name": "stdout"
        }
      ]
    },
    {
      "cell_type": "code",
      "metadata": {
        "colab": {
          "base_uri": "https://localhost:8080/"
        },
        "id": "gh_lH9ThbHTJ",
        "outputId": "a0613f98-408f-4c2a-fa9d-774d141c7ca8"
      },
      "source": [
        "print(\"Dot product = \", c)"
      ],
      "execution_count": 6,
      "outputs": [
        {
          "output_type": "stream",
          "text": [
            "Dot product =  250163.49888724205\n"
          ],
          "name": "stdout"
        }
      ]
    },
    {
      "cell_type": "markdown",
      "metadata": {
        "id": "quQCdh9KwhSc"
      },
      "source": [
        "## Product of Matrix and Vector"
      ]
    },
    {
      "cell_type": "code",
      "metadata": {
        "id": "pp96JFuLbTfJ"
      },
      "source": [
        "A = np.random.rand(1000,1000)\n",
        "v = np.random.rand(1000)\n",
        "u = np.zeros((1000, 1))"
      ],
      "execution_count": 12,
      "outputs": []
    },
    {
      "cell_type": "code",
      "metadata": {
        "colab": {
          "base_uri": "https://localhost:8080/"
        },
        "id": "jgsC2Kvwx1CD",
        "outputId": "c6335df1-2670-40d4-c25b-a711a4227ea5"
      },
      "source": [
        "%%time\n",
        "for i in range(1000):\n",
        "  for j in range(1000):\n",
        "    u[i] += A[i][j]*v[j]"
      ],
      "execution_count": 11,
      "outputs": [
        {
          "output_type": "stream",
          "text": [
            "CPU times: user 3.26 s, sys: 0 ns, total: 3.26 s\n",
            "Wall time: 3.27 s\n"
          ],
          "name": "stdout"
        }
      ]
    },
    {
      "cell_type": "code",
      "metadata": {
        "colab": {
          "base_uri": "https://localhost:8080/"
        },
        "id": "pOdRBrrux_po",
        "outputId": "6165c254-2647-4a73-af13-7365f9da1ee8"
      },
      "source": [
        "%%time\n",
        "u = np.dot(A,v)"
      ],
      "execution_count": 13,
      "outputs": [
        {
          "output_type": "stream",
          "text": [
            "CPU times: user 790 µs, sys: 1.95 ms, total: 2.74 ms\n",
            "Wall time: 2.18 ms\n"
          ],
          "name": "stdout"
        }
      ]
    },
    {
      "cell_type": "markdown",
      "metadata": {
        "id": "zVt_8vi7ysxH"
      },
      "source": [
        "## Exponent"
      ]
    },
    {
      "cell_type": "code",
      "metadata": {
        "colab": {
          "base_uri": "https://localhost:8080/"
        },
        "id": "8iFxFlBNyKIH",
        "outputId": "f0fe8cdf-53e0-4685-a373-1cc7e02ded2f"
      },
      "source": [
        "%%time\n",
        "u = np.zeros((1000,1))\n",
        "for i in range(1000):\n",
        "  u[i]=math.exp(v[i])"
      ],
      "execution_count": 16,
      "outputs": [
        {
          "output_type": "stream",
          "text": [
            "CPU times: user 1.09 ms, sys: 0 ns, total: 1.09 ms\n",
            "Wall time: 1.13 ms\n"
          ],
          "name": "stdout"
        }
      ]
    },
    {
      "cell_type": "code",
      "metadata": {
        "colab": {
          "base_uri": "https://localhost:8080/"
        },
        "id": "M7A8Dixqy413",
        "outputId": "3543ecf9-dacf-44b2-df4b-4f38eee18125"
      },
      "source": [
        "%%time\n",
        "u = np.exp(v)"
      ],
      "execution_count": 17,
      "outputs": [
        {
          "output_type": "stream",
          "text": [
            "CPU times: user 84 µs, sys: 0 ns, total: 84 µs\n",
            "Wall time: 122 µs\n"
          ],
          "name": "stdout"
        }
      ]
    },
    {
      "cell_type": "markdown",
      "metadata": {
        "id": "wRlEUnBq6HDC"
      },
      "source": [
        "# Sum"
      ]
    },
    {
      "cell_type": "code",
      "metadata": {
        "colab": {
          "base_uri": "https://localhost:8080/"
        },
        "id": "dzIco2jFzIhF",
        "outputId": "d67a1b2f-91ea-45e7-aaf5-090b63daae71"
      },
      "source": [
        "A = np.array([[1, 2, 3], [4, 5, 6], [7, 8, 9]])\n",
        "print(A)\n",
        "print(A.shape)\n",
        "sumHorizontally = A.sum(axis=1)\n",
        "print(sumHorizontally)\n",
        "print(sumHorizontally.shape)\n",
        "sumVertically = A.sum(axis=0)\n",
        "print(sumVertically)\n",
        "print(sumVertically.shape)"
      ],
      "execution_count": 26,
      "outputs": [
        {
          "output_type": "stream",
          "text": [
            "[[1 2 3]\n",
            " [4 5 6]\n",
            " [7 8 9]]\n",
            "(3, 3)\n",
            "[ 6 15 24]\n",
            "(3,)\n",
            "[12 15 18]\n",
            "(3,)\n"
          ],
          "name": "stdout"
        }
      ]
    },
    {
      "cell_type": "code",
      "metadata": {
        "id": "flCaJh_66tpc"
      },
      "source": [
        ""
      ],
      "execution_count": null,
      "outputs": []
    }
  ]
}