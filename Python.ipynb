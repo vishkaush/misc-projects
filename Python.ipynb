{
  "nbformat": 4,
  "nbformat_minor": 0,
  "metadata": {
    "colab": {
      "name": "Python.ipynb",
      "provenance": [],
      "authorship_tag": "ABX9TyO6eRZMNCeyUPV1sr0JZ7lb",
      "include_colab_link": true
    },
    "kernelspec": {
      "name": "python3",
      "display_name": "Python 3"
    },
    "language_info": {
      "name": "python"
    }
  },
  "cells": [
    {
      "cell_type": "markdown",
      "metadata": {
        "id": "view-in-github",
        "colab_type": "text"
      },
      "source": [
        "<a href=\"https://colab.research.google.com/github/vishkaush/misc-projects/blob/main/Python.ipynb\" target=\"_parent\"><img src=\"https://colab.research.google.com/assets/colab-badge.svg\" alt=\"Open In Colab\"/></a>"
      ]
    },
    {
      "cell_type": "markdown",
      "metadata": {
        "id": "fr11jghe7BPk"
      },
      "source": [
        "# Python-Numpy Vectors vs Rank 1 Arrays"
      ]
    },
    {
      "cell_type": "code",
      "metadata": {
        "colab": {
          "base_uri": "https://localhost:8080/"
        },
        "id": "7lCgu_-H7FE3",
        "outputId": "792ffc78-f264-4092-8054-8409322ea949"
      },
      "source": [
        "import numpy as np\n",
        "\n",
        "a = np.random.randn(5) # creates 5 random Gaussian numbers\n",
        "print(\"a= \", a)\n",
        "print(\"a's shape = \", a.shape) # rank 1 array - neither row vector, nor column vector\n",
        "print(\"a transpose = \", a.T) # remains the same!\n",
        "print(\"a dot a transpose = \", np.dot(a,a.T)) # you expect a 5X5 matrix, but you get a real number!\n",
        "# fix this by explicitly making it a column vector or a row vector like so:\n",
        "a = a.reshape((1,5))\n",
        "print(\"reshaped a = \", a)\n",
        "print(\"shape of reshaped a = \", a.shape)"
      ],
      "execution_count": 1,
      "outputs": [
        {
          "output_type": "stream",
          "text": [
            "a=  [ 1.12212486  0.29191375  0.48777776 -1.25455834  0.27985007]\n",
            "a's shape =  (5,)\n",
            "a transpose =  [ 1.12212486  0.29191375  0.48777776 -1.25455834  0.27985007]\n",
            "a dot a transpose =  3.2345376856988937\n",
            "reshaped a =  [[ 1.12212486  0.29191375  0.48777776 -1.25455834  0.27985007]]\n",
            "shape of reshaped a =  (1, 5)\n"
          ],
          "name": "stdout"
        }
      ]
    },
    {
      "cell_type": "code",
      "metadata": {
        "colab": {
          "base_uri": "https://localhost:8080/"
        },
        "id": "OuXQ9KxX776l",
        "outputId": "c89f3a76-8166-4ae0-c9a0-7563a2a4bb3f"
      },
      "source": [
        "# Hence, better to mention the dimensions explicitly even for vectors, i.e. treat vectors as matrices\n",
        "a = np.random.randn(5,1)\n",
        "print(\"a = \", a)\n",
        "print(\"a's shape = \", a.shape) \n",
        "print(\"a transpose = \", a.T) \n",
        "prod = np.dot(a,a.T)\n",
        "print(\"a dot a transpose = \", prod) \n",
        "assert(prod.shape == (5,5))  # good practice to do a sanity check of dimensions"
      ],
      "execution_count": 2,
      "outputs": [
        {
          "output_type": "stream",
          "text": [
            "a =  [[-0.20276811]\n",
            " [-0.05710923]\n",
            " [ 0.3410439 ]\n",
            " [ 0.51929858]\n",
            " [ 0.53560152]]\n",
            "a's shape =  (5, 1)\n",
            "a transpose =  [[-0.20276811 -0.05710923  0.3410439   0.51929858  0.53560152]]\n",
            "a dor a transpose =  [[ 0.04111491  0.01157993 -0.06915283 -0.10529719 -0.10860291]\n",
            " [ 0.01157993  0.00326146 -0.01947675 -0.02965674 -0.03058779]\n",
            " [-0.06915283 -0.01947675  0.11631094  0.17710361  0.18266363]\n",
            " [-0.10529719 -0.02965674  0.17710361  0.26967102  0.27813711]\n",
            " [-0.10860291 -0.03058779  0.18266363  0.27813711  0.28686899]]\n"
          ],
          "name": "stdout"
        }
      ]
    },
    {
      "cell_type": "markdown",
      "metadata": {
        "id": "i7v5ORtfaZLp"
      },
      "source": [
        "# Benefits of Vectorization"
      ]
    },
    {
      "cell_type": "markdown",
      "metadata": {
        "id": "Z9xt0QXxccqd"
      },
      "source": [
        "## Dot Product"
      ]
    },
    {
      "cell_type": "code",
      "metadata": {
        "colab": {
          "base_uri": "https://localhost:8080/"
        },
        "id": "w9X24ozqZJRi",
        "outputId": "ffb6c001-0ff8-40b6-9a0f-4dcb1681c2d5"
      },
      "source": [
        "import numpy as np\n",
        "import math\n",
        "a = np.random.rand(1000000)\n",
        "b = np.random.rand(1000000)\n",
        "%time c=np.dot(a,b)\n",
        "print(\"Dot product = \", c)"
      ],
      "execution_count": 15,
      "outputs": [
        {
          "output_type": "stream",
          "text": [
            "CPU times: user 2.71 ms, sys: 1.11 ms, total: 3.83 ms\n",
            "Wall time: 5.48 ms\n",
            "Dot product =  250185.55851631792\n"
          ],
          "name": "stdout"
        }
      ]
    },
    {
      "cell_type": "code",
      "metadata": {
        "colab": {
          "base_uri": "https://localhost:8080/"
        },
        "id": "NBkiwrGCZwhA",
        "outputId": "d9e6ecd4-f826-486c-a115-6bd13604d89c"
      },
      "source": [
        "%%time\n",
        "c = 0\n",
        "for i in range(1000000):\n",
        "  c += a[i]*b[i]"
      ],
      "execution_count": 5,
      "outputs": [
        {
          "output_type": "stream",
          "text": [
            "CPU times: user 567 ms, sys: 1.85 ms, total: 569 ms\n",
            "Wall time: 570 ms\n"
          ],
          "name": "stdout"
        }
      ]
    },
    {
      "cell_type": "code",
      "metadata": {
        "colab": {
          "base_uri": "https://localhost:8080/"
        },
        "id": "gh_lH9ThbHTJ",
        "outputId": "a0613f98-408f-4c2a-fa9d-774d141c7ca8"
      },
      "source": [
        "print(\"Dot product = \", c)"
      ],
      "execution_count": 6,
      "outputs": [
        {
          "output_type": "stream",
          "text": [
            "Dot product =  250163.49888724205\n"
          ],
          "name": "stdout"
        }
      ]
    },
    {
      "cell_type": "markdown",
      "metadata": {
        "id": "quQCdh9KwhSc"
      },
      "source": [
        "## Product of Matrix and Vector"
      ]
    },
    {
      "cell_type": "code",
      "metadata": {
        "id": "pp96JFuLbTfJ"
      },
      "source": [
        "A = np.random.rand(1000,1000)\n",
        "v = np.random.rand(1000)\n",
        "u = np.zeros((1000, 1))"
      ],
      "execution_count": 12,
      "outputs": []
    },
    {
      "cell_type": "code",
      "metadata": {
        "colab": {
          "base_uri": "https://localhost:8080/"
        },
        "id": "jgsC2Kvwx1CD",
        "outputId": "c6335df1-2670-40d4-c25b-a711a4227ea5"
      },
      "source": [
        "%%time\n",
        "for i in range(1000):\n",
        "  for j in range(1000):\n",
        "    u[i] += A[i][j]*v[j]"
      ],
      "execution_count": 11,
      "outputs": [
        {
          "output_type": "stream",
          "text": [
            "CPU times: user 3.26 s, sys: 0 ns, total: 3.26 s\n",
            "Wall time: 3.27 s\n"
          ],
          "name": "stdout"
        }
      ]
    },
    {
      "cell_type": "code",
      "metadata": {
        "colab": {
          "base_uri": "https://localhost:8080/"
        },
        "id": "pOdRBrrux_po",
        "outputId": "6165c254-2647-4a73-af13-7365f9da1ee8"
      },
      "source": [
        "%%time\n",
        "u = np.dot(A,v)"
      ],
      "execution_count": 13,
      "outputs": [
        {
          "output_type": "stream",
          "text": [
            "CPU times: user 790 µs, sys: 1.95 ms, total: 2.74 ms\n",
            "Wall time: 2.18 ms\n"
          ],
          "name": "stdout"
        }
      ]
    },
    {
      "cell_type": "markdown",
      "metadata": {
        "id": "zVt_8vi7ysxH"
      },
      "source": [
        "## Exponent"
      ]
    },
    {
      "cell_type": "code",
      "metadata": {
        "colab": {
          "base_uri": "https://localhost:8080/"
        },
        "id": "8iFxFlBNyKIH",
        "outputId": "f0fe8cdf-53e0-4685-a373-1cc7e02ded2f"
      },
      "source": [
        "%%time\n",
        "u = np.zeros((1000,1))\n",
        "for i in range(1000):\n",
        "  u[i]=math.exp(v[i])"
      ],
      "execution_count": 16,
      "outputs": [
        {
          "output_type": "stream",
          "text": [
            "CPU times: user 1.09 ms, sys: 0 ns, total: 1.09 ms\n",
            "Wall time: 1.13 ms\n"
          ],
          "name": "stdout"
        }
      ]
    },
    {
      "cell_type": "code",
      "metadata": {
        "colab": {
          "base_uri": "https://localhost:8080/"
        },
        "id": "M7A8Dixqy413",
        "outputId": "3543ecf9-dacf-44b2-df4b-4f38eee18125"
      },
      "source": [
        "%%time\n",
        "u = np.exp(v)"
      ],
      "execution_count": 17,
      "outputs": [
        {
          "output_type": "stream",
          "text": [
            "CPU times: user 84 µs, sys: 0 ns, total: 84 µs\n",
            "Wall time: 122 µs\n"
          ],
          "name": "stdout"
        }
      ]
    },
    {
      "cell_type": "markdown",
      "metadata": {
        "id": "wRlEUnBq6HDC"
      },
      "source": [
        "# Sum"
      ]
    },
    {
      "cell_type": "code",
      "metadata": {
        "colab": {
          "base_uri": "https://localhost:8080/"
        },
        "id": "dzIco2jFzIhF",
        "outputId": "72058c77-ac82-430b-961b-cefd00c1f271"
      },
      "source": [
        "A = np.array([[1, 2, 3], [4, 5, 6], [7, 8, 9]])\n",
        "print(\"A = \", A)\n",
        "print(\"A's shape = \", A.shape)\n",
        "sumHorizontally = A.sum(axis=1)\n",
        "print(\"After horizontal sum = \", sumHorizontally)\n",
        "print(\"Shape after horizontal sum = \", sumHorizontally.shape)\n",
        "sumVertically = A.sum(axis=0)\n",
        "print(\"After vertical sum = \", sumVertically)\n",
        "print(\"Shape after vertical sum = \", sumVertically.shape)"
      ],
      "execution_count": 3,
      "outputs": [
        {
          "output_type": "stream",
          "text": [
            "A =  [[1 2 3]\n",
            " [4 5 6]\n",
            " [7 8 9]]\n",
            "A's shape =  (3, 3)\n",
            "After horizontal sum =  [ 6 15 24]\n",
            "Shape after horizontal sum =  (3,)\n",
            "After vertical sum =  [12 15 18]\n",
            "Shape after vertical sum =  (3,)\n"
          ],
          "name": "stdout"
        }
      ]
    },
    {
      "cell_type": "code",
      "metadata": {
        "id": "flCaJh_66tpc"
      },
      "source": [
        ""
      ],
      "execution_count": null,
      "outputs": []
    }
  ]
}